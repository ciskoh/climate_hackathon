{
 "cells": [
  {
   "cell_type": "code",
   "execution_count": null,
   "id": "mechanical-stable",
   "metadata": {},
   "outputs": [],
   "source": [
    "#Main information source: https://agromonitoring.com/api/polygons\n",
    "import json\n",
    "import requests\n",
    "import geojson\n",
    "import pandas as pd\n",
    "import numpy as np\n",
    "import seaborn as sns\n",
    "import matplotlib.pyplot as plt\n",
    "\n",
    "token = ''"
   ]
  },
  {
   "cell_type": "markdown",
   "id": "sitting-sustainability",
   "metadata": {},
   "source": [
    "# Create a polygon"
   ]
  },
  {
   "cell_type": "raw",
   "id": "welcome-logging",
   "metadata": {},
   "source": [
    "# Create a dictionary called geometry with the following format. \n",
    "At least four coordinates (representing three points, as the last and first point must be the same).\n",
    "You can also generate new polygons with this tool: https://agromonitoring.com/create-polygon\n",
    "{'type': 'Polygon',\n",
    "    'coordinates': [[[8.31989, 47.285621],\n",
    "      [8.32092, 47.283003],\n",
    "      [8.322058, 47.283832],\n",
    "      [8.323474, 47.284225],\n",
    "      [8.325448, 47.284443],\n",
    "      [8.32356, 47.286872],\n",
    "      [8.31989, 47.285621]]]}"
   ]
  },
  {
   "cell_type": "code",
   "execution_count": null,
   "id": "through-wheel",
   "metadata": {},
   "outputs": [],
   "source": [
    "#Fill out your polygon coordinates here\n",
    "geometry = {\"type\":\"Polygon\",\"coordinates\":[[[-0.48786,39.63892],[-0.48786,39.66084],[-0.44512,39.66084],[-0.44512,39.63892],[-0.48786,39.63892]]]}"
   ]
  },
  {
   "cell_type": "raw",
   "id": "convertible-sympathy",
   "metadata": {},
   "source": [
    "# This call will create a polygon on my user account on agro API. The free account limit is 1000 ha. \n",
    "# Largest possible area is 3000 ha per polygon. \n",
    "response_creation = requests.post(\n",
    "    url = f'http://api.agromonitoring.com/agro/1.0/polygons?appid={token}',\n",
    "    headers={'Content-Type': 'application/json'},\n",
    "    json = {\n",
    "            'name': 'TestPolygon',\n",
    "            'appid': 'd71223f2476a9229b9670a19065fd55c',\n",
    "            'geo_json':{\n",
    "                'type': 'FeatureCollection',\n",
    "                'features':[\n",
    "                    {'type':'Feature',\n",
    "                        'properties':{},\n",
    "                        'geometry': geometry\n",
    "                    }\n",
    "                ]\n",
    "            }\n",
    "        }\n",
    ")"
   ]
  },
  {
   "cell_type": "code",
   "execution_count": null,
   "id": "spiritual-congress",
   "metadata": {},
   "outputs": [],
   "source": [
    "response_creation = requests.get(\n",
    "    url = f'http://api.agromonitoring.com/agro/1.0/polygons?appid={token}')"
   ]
  },
  {
   "cell_type": "code",
   "execution_count": null,
   "id": "anticipated-evening",
   "metadata": {},
   "outputs": [],
   "source": [
    "response_creation.json()"
   ]
  },
  {
   "cell_type": "markdown",
   "id": "finite-arnold",
   "metadata": {},
   "source": [
    "# Search for satellite data in the selected polygon"
   ]
  },
  {
   "cell_type": "code",
   "execution_count": null,
   "id": "advance-native",
   "metadata": {},
   "outputs": [],
   "source": [
    "from datetime import datetime\n",
    "from datetime import timezone"
   ]
  },
  {
   "cell_type": "code",
   "execution_count": null,
   "id": "upset-eight",
   "metadata": {},
   "outputs": [],
   "source": [
    "polygonID = '6059be4389177074678eda48'\n",
    "\n",
    "#Start date of the data search (unix time, UTC)\n",
    "start = datetime(2018, 10, 19, tzinfo=timezone.utc).timestamp()\n",
    "\n",
    "#End date of the data search (unix time, UTC)\n",
    "end = datetime(2020, 10, 19, tzinfo=timezone.utc).timestamp()\n",
    "\n"
   ]
  },
  {
   "cell_type": "raw",
   "id": "middle-ready",
   "metadata": {},
   "source": [
    "Select a statistical property to plot:\n",
    "'std' = The standard deviation of the index\n",
    "'p25' = The first quartile value of the index\n",
    "'num' = The number of pixels in the current polygon\n",
    "'min' = The minimum value of the index\n",
    "'max' = The maximum value of the index\n",
    "'median' = The median value of the index\n",
    "'p75' = The third quartile value of the index\n",
    "'mean' = The average value of the index"
   ]
  },
  {
   "cell_type": "code",
   "execution_count": null,
   "id": "portuguese-forth",
   "metadata": {},
   "outputs": [],
   "source": [
    "property = 'mean'"
   ]
  },
  {
   "cell_type": "code",
   "execution_count": null,
   "id": "blocked-harbor",
   "metadata": {},
   "outputs": [],
   "source": [
    "#Here you can select further parameters, such as satellite, resolution, etc. (https://agromonitoring.com/api/images)\n",
    "response = requests.get(\n",
    "    url = f'http://api.agromonitoring.com/agro/1.0/image/search?start={start}&end={end}&polyid={polygonID}&appid={token}'\n",
    ")"
   ]
  },
  {
   "cell_type": "raw",
   "id": "opening-refrigerator",
   "metadata": {},
   "source": [
    "#The output of the call above is a dictionary, well described in https://agromonitoring.com/api/images \n",
    "The keys are\n",
    "'dt' = Time stamp\n",
    "'type' = Satellite (either Landsat 8 or Sentinel 2)\n",
    "'dc' = valid data coverage\n",
    "'cl' = cloud coverage\n",
    "'sun' = Sun angle in elevation and azimuth\n",
    "'image' = API calls to get image files in png format with following options:\n",
    "    'truecolor', 'falsecolor', 'ndvi', 'evi', 'evi2', 'nri', 'dswi', 'ndwi'\n",
    "'tile' = List of API calls for use in libraries which support tile layers (Leaflet, OpenLayers, etc)\n",
    "'stats' = Get meta data for indices NDVI, EVI, EVI2, NRI, DSWI, and NDWI.\n",
    "'data' = API calls to get image for a polygon in TIFF format"
   ]
  },
  {
   "cell_type": "code",
   "execution_count": null,
   "id": "rational-barcelona",
   "metadata": {},
   "outputs": [],
   "source": [
    "response2 = requests.get(url = response.json()[0]['stats']['ndvi'])"
   ]
  },
  {
   "cell_type": "code",
   "execution_count": null,
   "id": "intermediate-protection",
   "metadata": {},
   "outputs": [],
   "source": [
    "#Retrieve the time of each data collection\n",
    "time_points = [datetime.utcfromtimestamp(t1['dt']) for t1 in response.json()]"
   ]
  },
  {
   "cell_type": "code",
   "execution_count": null,
   "id": "opening-lighter",
   "metadata": {},
   "outputs": [],
   "source": [
    "#mean_ndvi_points = [requests.get(url = elem['stats']['ndvi']).json()[property] for elem in response.json() if property in requests.get(url = elem['stats']['ndvi']).json()]"
   ]
  },
  {
   "cell_type": "code",
   "execution_count": null,
   "id": "parliamentary-split",
   "metadata": {},
   "outputs": [],
   "source": [
    "#Retrieve the statistical values\n",
    "ndvi_points2 = pd.DataFrame()\n",
    "for ind in range(0,len(response.json())):\n",
    "    response2 = requests.get(url = response.json()[ind]['stats']['ndvi'])\n",
    "    if 'mean' in response2.json():\n",
    "        ndvi_points2 = ndvi_points2.append([response2.json()[property]])\n",
    "    else:\n",
    "        ndvi_points2 = ndvi_points2.append([np.nan])\n"
   ]
  },
  {
   "cell_type": "code",
   "execution_count": null,
   "id": "literary-karen",
   "metadata": {},
   "outputs": [],
   "source": [
    "data1 ={'Year-Month-Day': time_points, \n",
    "        f'{property} NDVI': ndvi_points2[0] }\n",
    "df = pd.DataFrame(data=data1)"
   ]
  },
  {
   "cell_type": "code",
   "execution_count": null,
   "id": "olympic-middle",
   "metadata": {},
   "outputs": [],
   "source": [
    "df"
   ]
  },
  {
   "cell_type": "code",
   "execution_count": null,
   "id": "accessory-jersey",
   "metadata": {},
   "outputs": [],
   "source": [
    "#Font for plot\n",
    "font = {'family' : 'DejaVu Sans',\n",
    "        'weight' : 'normal',\n",
    "        'size'   : 14}\n",
    "\n",
    "plt.rc('font', **font)"
   ]
  },
  {
   "cell_type": "code",
   "execution_count": null,
   "id": "conceptual-integral",
   "metadata": {},
   "outputs": [],
   "source": [
    "plt.figure(figsize=(10,6))\n",
    "g = sns.lineplot(data=df, x='Year-Month-Day', y=f'{property} NDVI', markers=True, dashes=False)\n",
    "\n",
    "g.set_xlabel('Year-Month-Day', fontweight='bold', fontsize=18)\n",
    "g.set_ylabel(f'{property} NDVI', fontweight='bold', fontsize=18)\n",
    "\n",
    "# labels appear outside of plot area, so auto-adjust\n",
    "plt.tight_layout()"
   ]
  },
  {
   "cell_type": "code",
   "execution_count": null,
   "id": "increasing-night",
   "metadata": {},
   "outputs": [],
   "source": [
    "response.json()[3]['tile']['ndvi']"
   ]
  },
  {
   "cell_type": "markdown",
   "id": "final-england",
   "metadata": {},
   "source": [
    "# Soil data"
   ]
  },
  {
   "cell_type": "code",
   "execution_count": null,
   "id": "vital-hughes",
   "metadata": {},
   "outputs": [],
   "source": [
    "#Current soil data is available for free accounts. Historical data is not. However, a user can log current data.\n",
    "response = requests.get(\n",
    "    url = f'http://api.agromonitoring.com/agro/1.0/soil?polyid={polygonID}&appid={token}')"
   ]
  },
  {
   "cell_type": "code",
   "execution_count": null,
   "id": "choice-variance",
   "metadata": {},
   "outputs": [],
   "source": [
    "#Response is with 'dt' = timestamp, 't10' = Temperature in Kelvin 10 cm below surface, \n",
    "#'moisture' = soil moisture in m3/m3, 't0' = Surface Temperature in Kelvin\n",
    "response.json()"
   ]
  },
  {
   "cell_type": "code",
   "execution_count": null,
   "id": "surface-medicaid",
   "metadata": {},
   "outputs": [],
   "source": []
  }
 ],
 "metadata": {
  "kernelspec": {
   "display_name": "Python 3",
   "language": "python",
   "name": "python3"
  },
  "language_info": {
   "codemirror_mode": {
    "name": "ipython",
    "version": 3
   },
   "file_extension": ".py",
   "mimetype": "text/x-python",
   "name": "python",
   "nbconvert_exporter": "python",
   "pygments_lexer": "ipython3",
   "version": "3.8.5"
  }
 },
 "nbformat": 4,
 "nbformat_minor": 5
}
