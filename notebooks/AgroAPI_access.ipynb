{
 "cells": [
  {
   "cell_type": "code",
   "execution_count": null,
   "id": "mechanical-stable",
   "metadata": {},
   "outputs": [],
   "source": [
    "#Main information source: https://agromonitoring.com/api/polygons\n",
    "import json\n",
    "import requests\n",
    "import geojson\n",
    "\n",
    "token = ''"
   ]
  },
  {
   "cell_type": "markdown",
   "id": "sitting-sustainability",
   "metadata": {},
   "source": [
    "# Create a polygon"
   ]
  },
  {
   "cell_type": "raw",
   "id": "welcome-logging",
   "metadata": {},
   "source": [
    "# Create a dictionary called geometry with the following format. \n",
    "At least four coordinates (representing three points, as the last and first point must be the same).\n",
    "You can also generate new polygons with this tool: https://agromonitoring.com/create-polygon\n",
    "{'type': 'Polygon',\n",
    "    'coordinates': [[[8.31989, 47.285621],\n",
    "      [8.32092, 47.283003],\n",
    "      [8.322058, 47.283832],\n",
    "      [8.323474, 47.284225],\n",
    "      [8.325448, 47.284443],\n",
    "      [8.32356, 47.286872],\n",
    "      [8.31989, 47.285621]]]}"
   ]
  },
  {
   "cell_type": "code",
   "execution_count": null,
   "id": "through-wheel",
   "metadata": {},
   "outputs": [],
   "source": [
    "#Fill out your polygon coordinates here\n",
    "geometry = {'type': 'Polygon',\n",
    "    'coordinates': [[[8.31989, 47.285621],\n",
    "      [8.32092, 47.283003],\n",
    "      [8.322058, 47.283832],\n",
    "      [8.323474, 47.284225],\n",
    "      [8.325448, 47.284443],\n",
    "      [8.32356, 47.286872],\n",
    "      [8.31989, 47.285621]]]}"
   ]
  },
  {
   "cell_type": "code",
   "execution_count": null,
   "id": "developed-asian",
   "metadata": {},
   "outputs": [],
   "source": [
    "# This call will create a polygon on my user account on agro API. The free account limit is 1000 ha. \n",
    "# Largest possible area is 3000 ha per polygon. \n",
    "response_creation = requests.post(\n",
    "    url = f'http://api.agromonitoring.com/agro/1.0/polygons?appid={token}',\n",
    "    headers={'Content-Type': 'application/json'},\n",
    "    json = {\n",
    "            'name': 'TestPolygon',\n",
    "            'appid': 'd71223f2476a9229b9670a19065fd55c',\n",
    "            'geo_json':{\n",
    "                'type': 'FeatureCollection',\n",
    "                'features':[\n",
    "                    {'type':'Feature',\n",
    "                        'properties':{},\n",
    "                        'geometry': geometry\n",
    "                    }\n",
    "                ]\n",
    "            }\n",
    "        }\n",
    ")"
   ]
  },
  {
   "cell_type": "code",
   "execution_count": null,
   "id": "spiritual-congress",
   "metadata": {},
   "outputs": [],
   "source": [
    "response_creation = requests.get(\n",
    "    url = f'http://api.agromonitoring.com/agro/1.0/polygons?appid={token}')"
   ]
  },
  {
   "cell_type": "code",
   "execution_count": null,
   "id": "anticipated-evening",
   "metadata": {},
   "outputs": [],
   "source": [
    "response_creation.json()"
   ]
  },
  {
   "cell_type": "markdown",
   "id": "finite-arnold",
   "metadata": {},
   "source": [
    "# Search for satellite data in the selected polygon"
   ]
  },
  {
   "cell_type": "code",
   "execution_count": null,
   "id": "advance-native",
   "metadata": {},
   "outputs": [],
   "source": [
    "from datetime import datetime\n",
    "from datetime import timezone"
   ]
  },
  {
   "cell_type": "code",
   "execution_count": null,
   "id": "upset-eight",
   "metadata": {},
   "outputs": [],
   "source": [
    "polygonID = '6058c083bddeaf5effbbeffe'\n",
    "\n",
    "#Start date of the data search (unix time, UTC)\n",
    "start = datetime(2015, 10, 19, tzinfo=timezone.utc).timestamp()\n",
    "\n",
    "#End date of the data search (unix time, UTC)\n",
    "startend = datetime(2020, 10, 19, tzinfo=timezone.utc).timestamp()"
   ]
  },
  {
   "cell_type": "code",
   "execution_count": null,
   "id": "blocked-harbor",
   "metadata": {},
   "outputs": [],
   "source": [
    "#Here you can select further parameters, such as satellite, resolution, etc. (https://agromonitoring.com/api/images)\n",
    "response = requests.get(\n",
    "    url = f'http://api.agromonitoring.com/agro/1.0/image/search?start={start}&end={startend}&polyid={polygonID}&appid={token}'\n",
    ")"
   ]
  },
  {
   "cell_type": "code",
   "execution_count": null,
   "id": "rational-barcelona",
   "metadata": {},
   "outputs": [],
   "source": [
    "response.json()[0]"
   ]
  }
 ],
 "metadata": {
  "kernelspec": {
   "display_name": "Python 3",
   "language": "python",
   "name": "python3"
  },
  "language_info": {
   "codemirror_mode": {
    "name": "ipython",
    "version": 3
   },
   "file_extension": ".py",
   "mimetype": "text/x-python",
   "name": "python",
   "nbconvert_exporter": "python",
   "pygments_lexer": "ipython3",
   "version": "3.8.5"
  }
 },
 "nbformat": 4,
 "nbformat_minor": 5
}
