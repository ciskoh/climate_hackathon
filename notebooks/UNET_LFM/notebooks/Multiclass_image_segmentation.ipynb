{
 "cells": [
  {
   "cell_type": "markdown",
   "metadata": {},
   "source": [
    "# Multiclass image segmentation"
   ]
  },
  {
   "cell_type": "markdown",
   "metadata": {},
   "source": [
    "__Load Libraries__"
   ]
  },
  {
   "cell_type": "code",
   "execution_count": 1,
   "metadata": {},
   "outputs": [],
   "source": [
    "import os\n",
    "import tensorflow as tf\n",
    "import matplotlib.pyplot as plt\n",
    "import matplotlib.patches as mpatches\n",
    "import matplotlib.ticker as ticker\n",
    "from glob import glob\n",
    "import cv2\n",
    "import numpy as np\n",
    "from tqdm import tqdm\n",
    "from tensorflow.keras.callbacks import EarlyStopping, ReduceLROnPlateau, ModelCheckpoint\n",
    "from PIL import Image\n",
    "from osgeo import gdal"
   ]
  },
  {
   "cell_type": "markdown",
   "metadata": {},
   "source": [
    "## Set Path"
   ]
  },
  {
   "cell_type": "code",
   "execution_count": 2,
   "metadata": {},
   "outputs": [],
   "source": [
    "dir = os.getcwd()\n",
    "parent_dir = os.path.dirname(dir)\n",
    "\n",
    "PATH = parent_dir + '/data/Sentinel'                             \n",
    "PATH_IMAGES = PATH + '/images/'\n",
    "PATH_MASKS = PATH + '/masks/'\n",
    "PATH_PREDICTIONS = PATH + '/predictions/' \n",
    "\n",
    "import sys\n",
    "sys.path.append(parent_dir)"
   ]
  },
  {
   "cell_type": "markdown",
   "metadata": {},
   "source": [
    "## Import custom functions"
   ]
  },
  {
   "cell_type": "code",
   "execution_count": 3,
   "metadata": {},
   "outputs": [],
   "source": [
    "#from scripts\n",
    "from library.data_preprocessing_multiclass import load_data, tf_dataset_geo, read_image, read_select_geo_channel, read_original_size\n",
    "from library.models import unet_large, mobile_netv2\n",
    "from library.metrics import *\n",
    "from library.visualisation_multiclass import *"
   ]
  },
  {
   "cell_type": "markdown",
   "metadata": {},
   "source": [
    "# Define Hyperparemeters"
   ]
  },
  {
   "cell_type": "markdown",
   "metadata": {},
   "source": [
    "In a first step, we can define some hyperparameters:\n",
    "- **Shape**:  The shape of the images we feed into the model\n",
    "- **Num_classes**: How many classes do we try to predict?\n",
    "- **BATCH**: Batch Size\n",
    "- **Epochs**: For how many epochs do we train our model\n",
    "- **learning_rate**: reasonable values: 1e-4 for mobile_netv2, 1e-5 for Unet_large"
   ]
  },
  {
   "cell_type": "code",
   "execution_count": 4,
   "metadata": {},
   "outputs": [],
   "source": [
    "#Define amount of classes the model should predict, the height (H) and width (W) of the image.\n",
    "num_classes = 3\n",
    "H=256 \n",
    "W=256\n",
    "shape = (W, H, num_classes)\n",
    "chanels = [4,3,2]\n",
    "\n",
    "#Define the batch size, for how many epochs we want to train our model and the learning_rate.\n",
    "BATCH = 4\n",
    "epochs = 50\n",
    "learning_rate = 1e-4"
   ]
  },
  {
   "cell_type": "markdown",
   "metadata": {},
   "source": [
    "## Load Data\n",
    "Now, we can load the data and split them into train, validation and testing set. Per default, the train / val / test-split is 80% / 10% /10%. If required, this can be adapted by changing 'split = 0.1' to the desired degree."
   ]
  },
  {
   "cell_type": "code",
   "execution_count": 5,
   "metadata": {},
   "outputs": [
    {
     "name": "stdout",
     "output_type": "stream",
     "text": [
      "Dataset: Train: 8 - Valid: 1 - Test: 1\n"
     ]
    }
   ],
   "source": [
    "(train_x, train_y), (valid_x, valid_y), (test_x, test_y) = load_data(path_images = PATH_IMAGES, path_masks = PATH_MASKS, split = 0.1)\n",
    "print(f\"Dataset: Train: {len(train_x)} - Valid: {len(valid_x)} - Test: {len(test_x)}\")"
   ]
  },
  {
   "cell_type": "markdown",
   "metadata": {},
   "source": [
    "## Create Datasets"
   ]
  },
  {
   "cell_type": "markdown",
   "metadata": {},
   "source": [
    "As we have now the to correct splits and all data as we need, we can create the train_dataset, valid_dataset and test_dataset. To do so, use the function tf_dataset. This function loads the images and masks, resizes them to the defined size, normalizes images and performs one-hot encoding on the masks.\n",
    "\n",
    "Check the **data_preprocessing_multiclasss.py** script to check the code in detail."
   ]
  },
  {
   "cell_type": "code",
   "execution_count": 6,
   "metadata": {},
   "outputs": [],
   "source": [
    "train_dataset = tf_dataset_geo(train_x, train_y, chanels, batch=BATCH, width=W, height=H)\n",
    "valid_dataset = tf_dataset_geo(valid_x, valid_y, chanels, batch=BATCH, width=W, height=H)\n",
    "test_dataset = tf_dataset_geo(test_x, test_y, chanels, batch=BATCH, width=W, height=H)"
   ]
  },
  {
   "cell_type": "code",
   "execution_count": null,
   "metadata": {},
   "outputs": [],
   "source": []
  },
  {
   "cell_type": "markdown",
   "metadata": {},
   "source": [
    "## Model\n",
    "Let's now define the model and metrics we are using to evaluate the performance of the models."
   ]
  },
  {
   "cell_type": "markdown",
   "metadata": {},
   "source": [
    "### Metrics\n",
    "As metric to evaluate the performance of the model, the dice coef was used. The Dice Coefficient is 2 * the Area of Overlap divided by the total number of pixels in both images. The dice coef allows thus to gauge the similarity of two samples.\n",
    "\n",
    "While the dice_coef allows to monitor the overall performance, three seperate metrics were created to analyse, the performance for each class:\n",
    "\n",
    "\n",
    "- **dice_coef_c1**: Not segment 1 nor segement 2\n",
    "- **dice_coef_c2**: Segment 1\n",
    "- **dice_coef_c3**: Segment 2\n",
    "\n",
    "This would need to be increased according to the amount of classes but maybe start with 3 classes is a good starting point."
   ]
  },
  {
   "cell_type": "code",
   "execution_count": 7,
   "metadata": {},
   "outputs": [],
   "source": [
    "METRICS= [dice_coef, dice_coef_c1, dice_coef_c2, dice_coef_c3]"
   ]
  },
  {
   "cell_type": "markdown",
   "metadata": {},
   "source": [
    "### Define Model\n",
    "Now we define the model. Two diffrent Unet models are available for this task. As the name already suggests, the mobilenet model uses a pretrained mobilenet (trained on imagenet) as a decoder. The second model is a relatively large unet which was built from scratch. For the given task, of segmenting three diffrent classes, the performance of both models were quite similar.\n",
    "\n",
    "- Check the sript models.py for exact model architecture."
   ]
  },
  {
   "cell_type": "code",
   "execution_count": 8,
   "metadata": {},
   "outputs": [
    {
     "data": {
      "text/plain": [
       "' Model 1'"
      ]
     },
     "execution_count": 8,
     "metadata": {},
     "output_type": "execute_result"
    }
   ],
   "source": [
    "\"\"\" Model 1\"\"\"\n",
    "#model = mobile_netv2(shape, num_classes)"
   ]
  },
  {
   "cell_type": "code",
   "execution_count": 9,
   "metadata": {},
   "outputs": [],
   "source": [
    "\"\"\" Model 2\"\"\"\n",
    "model = unet_large(shape, num_classes)\n",
    "\n",
    "# also any othet model can be used here... and would be a good practice if any other model is used to add it to the library/models.py file"
   ]
  },
  {
   "cell_type": "markdown",
   "metadata": {},
   "source": [
    "###  Compile Model\n",
    "To train a model with fit(), we need to specify a loss function, an optimizer, and optionally, some metrics to monitor. We use the dice_loss as a loss function and the Adam algorithm as an optimizer. The learning_rate and the metrics were already defined."
   ]
  },
  {
   "cell_type": "code",
   "execution_count": 10,
   "metadata": {},
   "outputs": [],
   "source": [
    "model.compile(loss=dice_loss, optimizer=tf.keras.optimizers.Adam(learning_rate), metrics=METRICS)"
   ]
  },
  {
   "cell_type": "code",
   "execution_count": 11,
   "metadata": {
    "scrolled": true
   },
   "outputs": [
    {
     "name": "stdout",
     "output_type": "stream",
     "text": [
      "Model: \"functional_1\"\n",
      "__________________________________________________________________________________________________\n",
      "Layer (type)                    Output Shape         Param #     Connected to                     \n",
      "==================================================================================================\n",
      "input_image (InputLayer)        [(None, 256, 256, 3) 0                                            \n",
      "__________________________________________________________________________________________________\n",
      "conv2d (Conv2D)                 (None, 256, 256, 32) 896         input_image[0][0]                \n",
      "__________________________________________________________________________________________________\n",
      "conv2d_1 (Conv2D)               (None, 256, 256, 32) 9248        conv2d[0][0]                     \n",
      "__________________________________________________________________________________________________\n",
      "max_pooling2d (MaxPooling2D)    (None, 128, 128, 32) 0           conv2d_1[0][0]                   \n",
      "__________________________________________________________________________________________________\n",
      "conv2d_2 (Conv2D)               (None, 128, 128, 64) 18496       max_pooling2d[0][0]              \n",
      "__________________________________________________________________________________________________\n",
      "conv2d_3 (Conv2D)               (None, 128, 128, 64) 36928       conv2d_2[0][0]                   \n",
      "__________________________________________________________________________________________________\n",
      "max_pooling2d_1 (MaxPooling2D)  (None, 64, 64, 64)   0           conv2d_3[0][0]                   \n",
      "__________________________________________________________________________________________________\n",
      "conv2d_4 (Conv2D)               (None, 64, 64, 128)  73856       max_pooling2d_1[0][0]            \n",
      "__________________________________________________________________________________________________\n",
      "conv2d_5 (Conv2D)               (None, 64, 64, 128)  147584      conv2d_4[0][0]                   \n",
      "__________________________________________________________________________________________________\n",
      "max_pooling2d_2 (MaxPooling2D)  (None, 32, 32, 128)  0           conv2d_5[0][0]                   \n",
      "__________________________________________________________________________________________________\n",
      "conv2d_6 (Conv2D)               (None, 32, 32, 256)  295168      max_pooling2d_2[0][0]            \n",
      "__________________________________________________________________________________________________\n",
      "conv2d_7 (Conv2D)               (None, 32, 32, 256)  590080      conv2d_6[0][0]                   \n",
      "__________________________________________________________________________________________________\n",
      "max_pooling2d_3 (MaxPooling2D)  (None, 16, 16, 256)  0           conv2d_7[0][0]                   \n",
      "__________________________________________________________________________________________________\n",
      "conv2d_8 (Conv2D)               (None, 16, 16, 512)  1180160     max_pooling2d_3[0][0]            \n",
      "__________________________________________________________________________________________________\n",
      "conv2d_9 (Conv2D)               (None, 16, 16, 512)  2359808     conv2d_8[0][0]                   \n",
      "__________________________________________________________________________________________________\n",
      "conv2d_transpose (Conv2DTranspo (None, 32, 32, 256)  524544      conv2d_9[0][0]                   \n",
      "__________________________________________________________________________________________________\n",
      "concatenate (Concatenate)       (None, 32, 32, 512)  0           conv2d_transpose[0][0]           \n",
      "                                                                 conv2d_7[0][0]                   \n",
      "__________________________________________________________________________________________________\n",
      "conv2d_10 (Conv2D)              (None, 32, 32, 256)  1179904     concatenate[0][0]                \n",
      "__________________________________________________________________________________________________\n",
      "conv2d_11 (Conv2D)              (None, 32, 32, 256)  590080      conv2d_10[0][0]                  \n",
      "__________________________________________________________________________________________________\n",
      "conv2d_transpose_1 (Conv2DTrans (None, 64, 64, 128)  131200      conv2d_11[0][0]                  \n",
      "__________________________________________________________________________________________________\n",
      "concatenate_1 (Concatenate)     (None, 64, 64, 256)  0           conv2d_transpose_1[0][0]         \n",
      "                                                                 conv2d_5[0][0]                   \n",
      "__________________________________________________________________________________________________\n",
      "conv2d_12 (Conv2D)              (None, 64, 64, 128)  295040      concatenate_1[0][0]              \n",
      "__________________________________________________________________________________________________\n",
      "conv2d_13 (Conv2D)              (None, 64, 64, 128)  147584      conv2d_12[0][0]                  \n",
      "__________________________________________________________________________________________________\n",
      "conv2d_transpose_2 (Conv2DTrans (None, 128, 128, 64) 32832       conv2d_13[0][0]                  \n",
      "__________________________________________________________________________________________________\n",
      "concatenate_2 (Concatenate)     (None, 128, 128, 128 0           conv2d_transpose_2[0][0]         \n",
      "                                                                 conv2d_3[0][0]                   \n",
      "__________________________________________________________________________________________________\n",
      "conv2d_14 (Conv2D)              (None, 128, 128, 64) 73792       concatenate_2[0][0]              \n",
      "__________________________________________________________________________________________________\n",
      "conv2d_15 (Conv2D)              (None, 128, 128, 64) 36928       conv2d_14[0][0]                  \n",
      "__________________________________________________________________________________________________\n",
      "conv2d_transpose_3 (Conv2DTrans (None, 256, 256, 32) 8224        conv2d_15[0][0]                  \n",
      "__________________________________________________________________________________________________\n",
      "concatenate_3 (Concatenate)     (None, 256, 256, 64) 0           conv2d_transpose_3[0][0]         \n",
      "                                                                 conv2d_1[0][0]                   \n",
      "__________________________________________________________________________________________________\n",
      "conv2d_16 (Conv2D)              (None, 256, 256, 32) 18464       concatenate_3[0][0]              \n",
      "__________________________________________________________________________________________________\n",
      "conv2d_17 (Conv2D)              (None, 256, 256, 32) 9248        conv2d_16[0][0]                  \n",
      "__________________________________________________________________________________________________\n",
      "conv2d_18 (Conv2D)              (None, 256, 256, 3)  99          conv2d_17[0][0]                  \n",
      "==================================================================================================\n",
      "Total params: 7,760,163\n",
      "Trainable params: 7,760,163\n",
      "Non-trainable params: 0\n",
      "__________________________________________________________________________________________________\n"
     ]
    }
   ],
   "source": [
    "#summaries the model\n",
    "model.summary()"
   ]
  },
  {
   "cell_type": "markdown",
   "metadata": {},
   "source": [
    "### Callbacks\n",
    "Callbacks are objects that can perform tasks at various stages of the training process. The following call-backs are used during the training process:\n",
    "\n",
    "- **ModelCheckpoint**: Saves the best model\n",
    "- **ReduceLROnPlateau**: Reduce learning rate when a metric has stopped improving.\n",
    "- **EarlyStopping**: Stop training when a monitored metric has stopped improving."
   ]
  },
  {
   "cell_type": "code",
   "execution_count": 12,
   "metadata": {},
   "outputs": [],
   "source": [
    "callbacks = [\n",
    "        ModelCheckpoint(parent_dir + '/models/multiclass.h5',  verbose=1, save_best_only=True),\n",
    "        ReduceLROnPlateau(monitor=\"val_loss\", patience=3, factor=0.1, verbose=1, min_lr=1e-6),\n",
    "        EarlyStopping(monitor=\"val_loss\", patience=10, verbose=1)\n",
    "    ]"
   ]
  },
  {
   "cell_type": "markdown",
   "metadata": {},
   "source": [
    "## Train the Model\n",
    "We can now start with the training process of the model. As a last step we define the train_steps and valid_steps and then pass all the needed arguments into the model.fit() function."
   ]
  },
  {
   "cell_type": "code",
   "execution_count": 13,
   "metadata": {},
   "outputs": [],
   "source": [
    "train_steps = len(train_x)//BATCH\n",
    "valid_steps = len(valid_x)//BATCH\n",
    "\n",
    "if len(train_x) % BATCH != 0:\n",
    "    train_steps += 1\n",
    "if len(valid_x) % BATCH != 0:\n",
    "    valid_steps += 1"
   ]
  },
  {
   "cell_type": "code",
   "execution_count": 14,
   "metadata": {},
   "outputs": [
    {
     "name": "stdout",
     "output_type": "stream",
     "text": [
      "Epoch 1/50\n",
      "2/2 [==============================] - ETA: 0s - loss: 0.9715 - dice_coef: 0.0285 - dice_coef_c1: 0.0856 - dice_coef_c2: 0.0000e+00 - dice_coef_c3: 0.0000e+00\n",
      "Epoch 00001: val_loss improved from inf to 0.97138, saving model to /Users/leticiafernandezmoguel/Desktop/UNET_LFM/models/multiclass.h5\n",
      "2/2 [==============================] - 3s 2s/step - loss: 0.9715 - dice_coef: 0.0285 - dice_coef_c1: 0.0856 - dice_coef_c2: 0.0000e+00 - dice_coef_c3: 0.0000e+00 - val_loss: 0.9714 - val_dice_coef: 0.0286 - val_dice_coef_c1: 0.0859 - val_dice_coef_c2: 0.0000e+00 - val_dice_coef_c3: 0.0000e+00\n",
      "Epoch 2/50\n",
      "2/2 [==============================] - ETA: 0s - loss: 0.9714 - dice_coef: 0.0286 - dice_coef_c1: 0.0859 - dice_coef_c2: 0.0000e+00 - dice_coef_c3: 0.0000e+00\n",
      "Epoch 00002: val_loss improved from 0.97138 to 0.97126, saving model to /Users/leticiafernandezmoguel/Desktop/UNET_LFM/models/multiclass.h5\n",
      "2/2 [==============================] - 2s 1s/step - loss: 0.9714 - dice_coef: 0.0286 - dice_coef_c1: 0.0859 - dice_coef_c2: 0.0000e+00 - dice_coef_c3: 0.0000e+00 - val_loss: 0.9713 - val_dice_coef: 0.0287 - val_dice_coef_c1: 0.0862 - val_dice_coef_c2: 0.0000e+00 - val_dice_coef_c3: 0.0000e+00\n",
      "Epoch 3/50\n",
      "2/2 [==============================] - ETA: 0s - loss: 0.9712 - dice_coef: 0.0288 - dice_coef_c1: 0.0863 - dice_coef_c2: 0.0000e+00 - dice_coef_c3: 0.0000e+00\n",
      "Epoch 00003: val_loss improved from 0.97126 to 0.97112, saving model to /Users/leticiafernandezmoguel/Desktop/UNET_LFM/models/multiclass.h5\n",
      "2/2 [==============================] - 2s 1s/step - loss: 0.9712 - dice_coef: 0.0288 - dice_coef_c1: 0.0863 - dice_coef_c2: 0.0000e+00 - dice_coef_c3: 0.0000e+00 - val_loss: 0.9711 - val_dice_coef: 0.0289 - val_dice_coef_c1: 0.0866 - val_dice_coef_c2: 0.0000e+00 - val_dice_coef_c3: 0.0000e+00\n",
      "Epoch 4/50\n",
      "2/2 [==============================] - ETA: 0s - loss: 0.9711 - dice_coef: 0.0289 - dice_coef_c1: 0.0867 - dice_coef_c2: 0.0000e+00 - dice_coef_c3: 0.0000e+00\n",
      "Epoch 00004: val_loss improved from 0.97112 to 0.97098, saving model to /Users/leticiafernandezmoguel/Desktop/UNET_LFM/models/multiclass.h5\n",
      "2/2 [==============================] - 2s 1s/step - loss: 0.9711 - dice_coef: 0.0289 - dice_coef_c1: 0.0867 - dice_coef_c2: 0.0000e+00 - dice_coef_c3: 0.0000e+00 - val_loss: 0.9710 - val_dice_coef: 0.0290 - val_dice_coef_c1: 0.0871 - val_dice_coef_c2: 0.0000e+00 - val_dice_coef_c3: 0.0000e+00\n",
      "Epoch 5/50\n",
      "2/2 [==============================] - ETA: 0s - loss: 0.9709 - dice_coef: 0.0291 - dice_coef_c1: 0.0872 - dice_coef_c2: 0.0000e+00 - dice_coef_c3: 0.0000e+00\n",
      "Epoch 00005: val_loss improved from 0.97098 to 0.97082, saving model to /Users/leticiafernandezmoguel/Desktop/UNET_LFM/models/multiclass.h5\n",
      "2/2 [==============================] - 2s 1s/step - loss: 0.9709 - dice_coef: 0.0291 - dice_coef_c1: 0.0872 - dice_coef_c2: 0.0000e+00 - dice_coef_c3: 0.0000e+00 - val_loss: 0.9708 - val_dice_coef: 0.0292 - val_dice_coef_c1: 0.0876 - val_dice_coef_c2: 0.0000e+00 - val_dice_coef_c3: 0.0000e+00\n",
      "Epoch 6/50\n",
      "2/2 [==============================] - ETA: 0s - loss: 0.9708 - dice_coef: 0.0292 - dice_coef_c1: 0.0877 - dice_coef_c2: 0.0000e+00 - dice_coef_c3: 0.0000e+00\n",
      "Epoch 00006: val_loss improved from 0.97082 to 0.97064, saving model to /Users/leticiafernandezmoguel/Desktop/UNET_LFM/models/multiclass.h5\n",
      "2/2 [==============================] - 2s 1s/step - loss: 0.9708 - dice_coef: 0.0292 - dice_coef_c1: 0.0877 - dice_coef_c2: 0.0000e+00 - dice_coef_c3: 0.0000e+00 - val_loss: 0.9706 - val_dice_coef: 0.0294 - val_dice_coef_c1: 0.0881 - val_dice_coef_c2: 0.0000e+00 - val_dice_coef_c3: 0.0000e+00\n",
      "Epoch 7/50\n",
      "2/2 [==============================] - ETA: 0s - loss: 0.9706 - dice_coef: 0.0294 - dice_coef_c1: 0.0882 - dice_coef_c2: 0.0000e+00 - dice_coef_c3: 0.0000e+00\n",
      "Epoch 00007: val_loss improved from 0.97064 to 0.97041, saving model to /Users/leticiafernandezmoguel/Desktop/UNET_LFM/models/multiclass.h5\n",
      "2/2 [==============================] - 2s 1s/step - loss: 0.9706 - dice_coef: 0.0294 - dice_coef_c1: 0.0882 - dice_coef_c2: 0.0000e+00 - dice_coef_c3: 0.0000e+00 - val_loss: 0.9704 - val_dice_coef: 0.0296 - val_dice_coef_c1: 0.0888 - val_dice_coef_c2: 0.0000e+00 - val_dice_coef_c3: 0.0000e+00\n",
      "Epoch 8/50\n",
      "2/2 [==============================] - ETA: 0s - loss: 0.9703 - dice_coef: 0.0297 - dice_coef_c1: 0.0890 - dice_coef_c2: 0.0000e+00 - dice_coef_c3: 0.0000e+00\n",
      "Epoch 00008: val_loss improved from 0.97041 to 0.97013, saving model to /Users/leticiafernandezmoguel/Desktop/UNET_LFM/models/multiclass.h5\n",
      "2/2 [==============================] - 2s 1s/step - loss: 0.9703 - dice_coef: 0.0297 - dice_coef_c1: 0.0890 - dice_coef_c2: 0.0000e+00 - dice_coef_c3: 0.0000e+00 - val_loss: 0.9701 - val_dice_coef: 0.0299 - val_dice_coef_c1: 0.0896 - val_dice_coef_c2: 0.0000e+00 - val_dice_coef_c3: 0.0000e+00\n",
      "Epoch 9/50\n",
      "2/2 [==============================] - ETA: 0s - loss: 0.9700 - dice_coef: 0.0300 - dice_coef_c1: 0.0899 - dice_coef_c2: 0.0000e+00 - dice_coef_c3: 0.0000e+00\n",
      "Epoch 00009: val_loss improved from 0.97013 to 0.96976, saving model to /Users/leticiafernandezmoguel/Desktop/UNET_LFM/models/multiclass.h5\n",
      "2/2 [==============================] - 2s 1s/step - loss: 0.9700 - dice_coef: 0.0300 - dice_coef_c1: 0.0899 - dice_coef_c2: 0.0000e+00 - dice_coef_c3: 0.0000e+00 - val_loss: 0.9698 - val_dice_coef: 0.0302 - val_dice_coef_c1: 0.0907 - val_dice_coef_c2: 0.0000e+00 - val_dice_coef_c3: 0.0000e+00\n",
      "Epoch 10/50\n",
      "2/2 [==============================] - ETA: 0s - loss: 0.9696 - dice_coef: 0.0304 - dice_coef_c1: 0.0911 - dice_coef_c2: 0.0000e+00 - dice_coef_c3: 0.0000e+00\n",
      "Epoch 00010: val_loss improved from 0.96976 to 0.96926, saving model to /Users/leticiafernandezmoguel/Desktop/UNET_LFM/models/multiclass.h5\n",
      "2/2 [==============================] - 2s 1s/step - loss: 0.9696 - dice_coef: 0.0304 - dice_coef_c1: 0.0911 - dice_coef_c2: 0.0000e+00 - dice_coef_c3: 0.0000e+00 - val_loss: 0.9693 - val_dice_coef: 0.0307 - val_dice_coef_c1: 0.0922 - val_dice_coef_c2: 0.0000e+00 - val_dice_coef_c3: 0.0000e+00\n",
      "Epoch 11/50\n",
      "2/2 [==============================] - ETA: 0s - loss: 0.9691 - dice_coef: 0.0309 - dice_coef_c1: 0.0927 - dice_coef_c2: 0.0000e+00 - dice_coef_c3: 0.0000e+00\n",
      "Epoch 00011: val_loss improved from 0.96926 to 0.96855, saving model to /Users/leticiafernandezmoguel/Desktop/UNET_LFM/models/multiclass.h5\n",
      "2/2 [==============================] - 2s 1s/step - loss: 0.9691 - dice_coef: 0.0309 - dice_coef_c1: 0.0927 - dice_coef_c2: 0.0000e+00 - dice_coef_c3: 0.0000e+00 - val_loss: 0.9685 - val_dice_coef: 0.0315 - val_dice_coef_c1: 0.0944 - val_dice_coef_c2: 0.0000e+00 - val_dice_coef_c3: 0.0000e+00\n",
      "Epoch 12/50\n",
      "2/2 [==============================] - ETA: 0s - loss: 0.9683 - dice_coef: 0.0317 - dice_coef_c1: 0.0951 - dice_coef_c2: 0.0000e+00 - dice_coef_c3: 0.0000e+00\n",
      "Epoch 00012: val_loss improved from 0.96855 to 0.96748, saving model to /Users/leticiafernandezmoguel/Desktop/UNET_LFM/models/multiclass.h5\n",
      "2/2 [==============================] - 2s 1s/step - loss: 0.9683 - dice_coef: 0.0317 - dice_coef_c1: 0.0951 - dice_coef_c2: 0.0000e+00 - dice_coef_c3: 0.0000e+00 - val_loss: 0.9675 - val_dice_coef: 0.0325 - val_dice_coef_c1: 0.0976 - val_dice_coef_c2: 0.0000e+00 - val_dice_coef_c3: 0.0000e+00\n",
      "Epoch 13/50\n",
      "2/2 [==============================] - ETA: 0s - loss: 0.9671 - dice_coef: 0.0329 - dice_coef_c1: 0.0987 - dice_coef_c2: 0.0000e+00 - dice_coef_c3: 0.0000e+00\n",
      "Epoch 00013: val_loss improved from 0.96748 to 0.96580, saving model to /Users/leticiafernandezmoguel/Desktop/UNET_LFM/models/multiclass.h5\n",
      "2/2 [==============================] - 2s 1s/step - loss: 0.9671 - dice_coef: 0.0329 - dice_coef_c1: 0.0987 - dice_coef_c2: 0.0000e+00 - dice_coef_c3: 0.0000e+00 - val_loss: 0.9658 - val_dice_coef: 0.0342 - val_dice_coef_c1: 0.1026 - val_dice_coef_c2: 0.0000e+00 - val_dice_coef_c3: 0.0000e+00\n",
      "Epoch 14/50\n",
      "2/2 [==============================] - ETA: 0s - loss: 0.9652 - dice_coef: 0.0348 - dice_coef_c1: 0.1044 - dice_coef_c2: 0.0000e+00 - dice_coef_c3: 0.0000e+00\n",
      "Epoch 00014: val_loss improved from 0.96580 to 0.96301, saving model to /Users/leticiafernandezmoguel/Desktop/UNET_LFM/models/multiclass.h5\n",
      "2/2 [==============================] - 2s 1s/step - loss: 0.9652 - dice_coef: 0.0348 - dice_coef_c1: 0.1044 - dice_coef_c2: 0.0000e+00 - dice_coef_c3: 0.0000e+00 - val_loss: 0.9630 - val_dice_coef: 0.0370 - val_dice_coef_c1: 0.1110 - val_dice_coef_c2: 0.0000e+00 - val_dice_coef_c3: 0.0000e+00\n",
      "Epoch 15/50\n",
      "2/2 [==============================] - ETA: 0s - loss: 0.9620 - dice_coef: 0.0380 - dice_coef_c1: 0.1141 - dice_coef_c2: 0.0000e+00 - dice_coef_c3: 0.0000e+00\n",
      "Epoch 00015: val_loss improved from 0.96301 to 0.95812, saving model to /Users/leticiafernandezmoguel/Desktop/UNET_LFM/models/multiclass.h5\n",
      "2/2 [==============================] - 2s 1s/step - loss: 0.9620 - dice_coef: 0.0380 - dice_coef_c1: 0.1141 - dice_coef_c2: 0.0000e+00 - dice_coef_c3: 0.0000e+00 - val_loss: 0.9581 - val_dice_coef: 0.0419 - val_dice_coef_c1: 0.1257 - val_dice_coef_c2: 0.0000e+00 - val_dice_coef_c3: 0.0000e+00\n",
      "Epoch 16/50\n",
      "2/2 [==============================] - ETA: 0s - loss: 0.9562 - dice_coef: 0.0438 - dice_coef_c1: 0.1314 - dice_coef_c2: 0.0000e+00 - dice_coef_c3: 0.0000e+00\n",
      "Epoch 00016: val_loss improved from 0.95812 to 0.94912, saving model to /Users/leticiafernandezmoguel/Desktop/UNET_LFM/models/multiclass.h5\n",
      "2/2 [==============================] - 2s 1s/step - loss: 0.9562 - dice_coef: 0.0438 - dice_coef_c1: 0.1314 - dice_coef_c2: 0.0000e+00 - dice_coef_c3: 0.0000e+00 - val_loss: 0.9491 - val_dice_coef: 0.0509 - val_dice_coef_c1: 0.1526 - val_dice_coef_c2: 0.0000e+00 - val_dice_coef_c3: 0.0000e+00\n",
      "Epoch 17/50\n",
      "2/2 [==============================] - ETA: 0s - loss: 0.9457 - dice_coef: 0.0543 - dice_coef_c1: 0.1630 - dice_coef_c2: 0.0000e+00 - dice_coef_c3: 0.0000e+00\n",
      "Epoch 00017: val_loss improved from 0.94912 to 0.93362, saving model to /Users/leticiafernandezmoguel/Desktop/UNET_LFM/models/multiclass.h5\n",
      "2/2 [==============================] - 2s 1s/step - loss: 0.9457 - dice_coef: 0.0543 - dice_coef_c1: 0.1630 - dice_coef_c2: 0.0000e+00 - dice_coef_c3: 0.0000e+00 - val_loss: 0.9336 - val_dice_coef: 0.0664 - val_dice_coef_c1: 0.1991 - val_dice_coef_c2: 0.0000e+00 - val_dice_coef_c3: 0.0000e+00\n",
      "Epoch 18/50\n",
      "2/2 [==============================] - ETA: 0s - loss: 0.9288 - dice_coef: 0.0712 - dice_coef_c1: 0.2137 - dice_coef_c2: 0.0000e+00 - dice_coef_c3: 0.0000e+00\n",
      "Epoch 00018: val_loss improved from 0.93362 to 0.91288, saving model to /Users/leticiafernandezmoguel/Desktop/UNET_LFM/models/multiclass.h5\n",
      "2/2 [==============================] - 2s 1s/step - loss: 0.9288 - dice_coef: 0.0712 - dice_coef_c1: 0.2137 - dice_coef_c2: 0.0000e+00 - dice_coef_c3: 0.0000e+00 - val_loss: 0.9129 - val_dice_coef: 0.0871 - val_dice_coef_c1: 0.2614 - val_dice_coef_c2: 0.0000e+00 - val_dice_coef_c3: 0.0000e+00\n",
      "Epoch 19/50\n",
      "2/2 [==============================] - ETA: 0s - loss: 0.9055 - dice_coef: 0.0945 - dice_coef_c1: 0.2836 - dice_coef_c2: 0.0000e+00 - dice_coef_c3: 0.0000e+00\n",
      "Epoch 00019: val_loss improved from 0.91288 to 0.87915, saving model to /Users/leticiafernandezmoguel/Desktop/UNET_LFM/models/multiclass.h5\n",
      "2/2 [==============================] - 2s 1s/step - loss: 0.9055 - dice_coef: 0.0945 - dice_coef_c1: 0.2836 - dice_coef_c2: 0.0000e+00 - dice_coef_c3: 0.0000e+00 - val_loss: 0.8791 - val_dice_coef: 0.1209 - val_dice_coef_c1: 0.3626 - val_dice_coef_c2: 0.0000e+00 - val_dice_coef_c3: 0.0000e+00\n",
      "Epoch 20/50\n",
      "2/2 [==============================] - ETA: 0s - loss: 0.8712 - dice_coef: 0.1288 - dice_coef_c1: 0.3864 - dice_coef_c2: 0.0000e+00 - dice_coef_c3: 0.0000e+00\n",
      "Epoch 00020: val_loss improved from 0.87915 to 0.84732, saving model to /Users/leticiafernandezmoguel/Desktop/UNET_LFM/models/multiclass.h5\n",
      "2/2 [==============================] - 2s 1s/step - loss: 0.8712 - dice_coef: 0.1288 - dice_coef_c1: 0.3864 - dice_coef_c2: 0.0000e+00 - dice_coef_c3: 0.0000e+00 - val_loss: 0.8473 - val_dice_coef: 0.1527 - val_dice_coef_c1: 0.4581 - val_dice_coef_c2: 0.0000e+00 - val_dice_coef_c3: 0.0000e+00\n",
      "Epoch 21/50\n",
      "2/2 [==============================] - ETA: 0s - loss: 0.8397 - dice_coef: 0.1603 - dice_coef_c1: 0.4810 - dice_coef_c2: 0.0000e+00 - dice_coef_c3: 0.0000e+00\n",
      "Epoch 00021: val_loss improved from 0.84732 to 0.81847, saving model to /Users/leticiafernandezmoguel/Desktop/UNET_LFM/models/multiclass.h5\n",
      "2/2 [==============================] - 2s 1s/step - loss: 0.8397 - dice_coef: 0.1603 - dice_coef_c1: 0.4810 - dice_coef_c2: 0.0000e+00 - dice_coef_c3: 0.0000e+00 - val_loss: 0.8185 - val_dice_coef: 0.1815 - val_dice_coef_c1: 0.5446 - val_dice_coef_c2: 0.0000e+00 - val_dice_coef_c3: 0.0000e+00\n",
      "Epoch 22/50\n",
      "2/2 [==============================] - ETA: 0s - loss: 0.8113 - dice_coef: 0.1887 - dice_coef_c1: 0.5662 - dice_coef_c2: 0.0000e+00 - dice_coef_c3: 0.0000e+00\n",
      "Epoch 00022: val_loss improved from 0.81847 to 0.79277, saving model to /Users/leticiafernandezmoguel/Desktop/UNET_LFM/models/multiclass.h5\n",
      "2/2 [==============================] - 2s 1s/step - loss: 0.8113 - dice_coef: 0.1887 - dice_coef_c1: 0.5662 - dice_coef_c2: 0.0000e+00 - dice_coef_c3: 0.0000e+00 - val_loss: 0.7928 - val_dice_coef: 0.2072 - val_dice_coef_c1: 0.6217 - val_dice_coef_c2: 0.0000e+00 - val_dice_coef_c3: 0.0000e+00\n",
      "Epoch 23/50\n",
      "2/2 [==============================] - ETA: 0s - loss: 0.7886 - dice_coef: 0.2114 - dice_coef_c1: 0.6342 - dice_coef_c2: 0.0000e+00 - dice_coef_c3: 0.0000e+00\n",
      "Epoch 00023: val_loss improved from 0.79277 to 0.78003, saving model to /Users/leticiafernandezmoguel/Desktop/UNET_LFM/models/multiclass.h5\n",
      "2/2 [==============================] - 2s 1s/step - loss: 0.7886 - dice_coef: 0.2114 - dice_coef_c1: 0.6342 - dice_coef_c2: 0.0000e+00 - dice_coef_c3: 0.0000e+00 - val_loss: 0.7800 - val_dice_coef: 0.2200 - val_dice_coef_c1: 0.6599 - val_dice_coef_c2: 0.0000e+00 - val_dice_coef_c3: 0.0000e+00\n",
      "Epoch 24/50\n",
      "2/2 [==============================] - ETA: 0s - loss: 0.7775 - dice_coef: 0.2225 - dice_coef_c1: 0.6675 - dice_coef_c2: 0.0000e+00 - dice_coef_c3: 0.0000e+00\n",
      "Epoch 00024: val_loss improved from 0.78003 to 0.76176, saving model to /Users/leticiafernandezmoguel/Desktop/UNET_LFM/models/multiclass.h5\n",
      "2/2 [==============================] - 2s 1s/step - loss: 0.7775 - dice_coef: 0.2225 - dice_coef_c1: 0.6675 - dice_coef_c2: 0.0000e+00 - dice_coef_c3: 0.0000e+00 - val_loss: 0.7618 - val_dice_coef: 0.2382 - val_dice_coef_c1: 0.7147 - val_dice_coef_c2: 0.0000e+00 - val_dice_coef_c3: 0.0000e+00\n",
      "Epoch 25/50\n",
      "2/2 [==============================] - ETA: 0s - loss: 0.7572 - dice_coef: 0.2428 - dice_coef_c1: 0.7284 - dice_coef_c2: 0.0000e+00 - dice_coef_c3: 0.0000e+00\n",
      "Epoch 00025: val_loss improved from 0.76176 to 0.75481, saving model to /Users/leticiafernandezmoguel/Desktop/UNET_LFM/models/multiclass.h5\n",
      "2/2 [==============================] - 2s 1s/step - loss: 0.7572 - dice_coef: 0.2428 - dice_coef_c1: 0.7284 - dice_coef_c2: 0.0000e+00 - dice_coef_c3: 0.0000e+00 - val_loss: 0.7548 - val_dice_coef: 0.2452 - val_dice_coef_c1: 0.7356 - val_dice_coef_c2: 0.0000e+00 - val_dice_coef_c3: 0.0000e+00\n",
      "Epoch 26/50\n",
      "2/2 [==============================] - ETA: 0s - loss: 0.7520 - dice_coef: 0.2480 - dice_coef_c1: 0.7441 - dice_coef_c2: 0.0000e+00 - dice_coef_c3: 0.0000e+00\n",
      "Epoch 00026: val_loss improved from 0.75481 to 0.74209, saving model to /Users/leticiafernandezmoguel/Desktop/UNET_LFM/models/multiclass.h5\n",
      "2/2 [==============================] - 2s 1s/step - loss: 0.7520 - dice_coef: 0.2480 - dice_coef_c1: 0.7441 - dice_coef_c2: 0.0000e+00 - dice_coef_c3: 0.0000e+00 - val_loss: 0.7421 - val_dice_coef: 0.2579 - val_dice_coef_c1: 0.7737 - val_dice_coef_c2: 0.0000e+00 - val_dice_coef_c3: 0.0000e+00\n",
      "Epoch 27/50\n",
      "2/2 [==============================] - ETA: 0s - loss: 0.7410 - dice_coef: 0.2590 - dice_coef_c1: 0.7770 - dice_coef_c2: 0.0000e+00 - dice_coef_c3: 0.0000e+00\n",
      "Epoch 00027: val_loss improved from 0.74209 to 0.73861, saving model to /Users/leticiafernandezmoguel/Desktop/UNET_LFM/models/multiclass.h5\n",
      "2/2 [==============================] - 2s 1s/step - loss: 0.7410 - dice_coef: 0.2590 - dice_coef_c1: 0.7770 - dice_coef_c2: 0.0000e+00 - dice_coef_c3: 0.0000e+00 - val_loss: 0.7386 - val_dice_coef: 0.2614 - val_dice_coef_c1: 0.7842 - val_dice_coef_c2: 0.0000e+00 - val_dice_coef_c3: 0.0000e+00\n",
      "Epoch 28/50\n",
      "2/2 [==============================] - ETA: 0s - loss: 0.7410 - dice_coef: 0.2590 - dice_coef_c1: 0.7770 - dice_coef_c2: 0.0000e+00 - dice_coef_c3: 0.0000e+00\n",
      "Epoch 00028: val_loss did not improve from 0.73861\n",
      "2/2 [==============================] - 2s 1s/step - loss: 0.7410 - dice_coef: 0.2590 - dice_coef_c1: 0.7770 - dice_coef_c2: 0.0000e+00 - dice_coef_c3: 0.0000e+00 - val_loss: 0.7540 - val_dice_coef: 0.2460 - val_dice_coef_c1: 0.7381 - val_dice_coef_c2: 0.0000e+00 - val_dice_coef_c3: 0.0000e+00\n",
      "Epoch 29/50\n",
      "2/2 [==============================] - ETA: 0s - loss: 0.7482 - dice_coef: 0.2518 - dice_coef_c1: 0.7555 - dice_coef_c2: 0.0000e+00 - dice_coef_c3: 0.0000e+00\n",
      "Epoch 00029: val_loss did not improve from 0.73861\n",
      "2/2 [==============================] - 2s 1s/step - loss: 0.7482 - dice_coef: 0.2518 - dice_coef_c1: 0.7555 - dice_coef_c2: 0.0000e+00 - dice_coef_c3: 0.0000e+00 - val_loss: 0.7424 - val_dice_coef: 0.2576 - val_dice_coef_c1: 0.7728 - val_dice_coef_c2: 0.0000e+00 - val_dice_coef_c3: 0.0000e+00\n",
      "Epoch 30/50\n",
      "2/2 [==============================] - ETA: 0s - loss: 0.7462 - dice_coef: 0.2538 - dice_coef_c1: 0.7615 - dice_coef_c2: 0.0000e+00 - dice_coef_c3: 0.0000e+00\n",
      "Epoch 00030: val_loss did not improve from 0.73861\n",
      "\n",
      "Epoch 00030: ReduceLROnPlateau reducing learning rate to 9.999999747378752e-06.\n",
      "2/2 [==============================] - 2s 1s/step - loss: 0.7462 - dice_coef: 0.2538 - dice_coef_c1: 0.7615 - dice_coef_c2: 0.0000e+00 - dice_coef_c3: 0.0000e+00 - val_loss: 0.7405 - val_dice_coef: 0.2595 - val_dice_coef_c1: 0.7785 - val_dice_coef_c2: 0.0000e+00 - val_dice_coef_c3: 0.0000e+00\n",
      "Epoch 31/50\n",
      "2/2 [==============================] - ETA: 0s - loss: 0.7395 - dice_coef: 0.2605 - dice_coef_c1: 0.7815 - dice_coef_c2: 0.0000e+00 - dice_coef_c3: 0.0000e+00\n",
      "Epoch 00031: val_loss improved from 0.73861 to 0.73532, saving model to /Users/leticiafernandezmoguel/Desktop/UNET_LFM/models/multiclass.h5\n",
      "2/2 [==============================] - 2s 1s/step - loss: 0.7395 - dice_coef: 0.2605 - dice_coef_c1: 0.7815 - dice_coef_c2: 0.0000e+00 - dice_coef_c3: 0.0000e+00 - val_loss: 0.7353 - val_dice_coef: 0.2647 - val_dice_coef_c1: 0.7941 - val_dice_coef_c2: 0.0000e+00 - val_dice_coef_c3: 0.0000e+00\n",
      "Epoch 32/50\n",
      "2/2 [==============================] - ETA: 0s - loss: 0.7345 - dice_coef: 0.2655 - dice_coef_c1: 0.7966 - dice_coef_c2: 0.0000e+00 - dice_coef_c3: 0.0000e+00\n",
      "Epoch 00032: val_loss improved from 0.73532 to 0.73472, saving model to /Users/leticiafernandezmoguel/Desktop/UNET_LFM/models/multiclass.h5\n",
      "2/2 [==============================] - 2s 1s/step - loss: 0.7345 - dice_coef: 0.2655 - dice_coef_c1: 0.7966 - dice_coef_c2: 0.0000e+00 - dice_coef_c3: 0.0000e+00 - val_loss: 0.7347 - val_dice_coef: 0.2653 - val_dice_coef_c1: 0.7958 - val_dice_coef_c2: 0.0000e+00 - val_dice_coef_c3: 0.0000e+00\n",
      "Epoch 33/50\n",
      "2/2 [==============================] - ETA: 0s - loss: 0.7350 - dice_coef: 0.2650 - dice_coef_c1: 0.7949 - dice_coef_c2: 0.0000e+00 - dice_coef_c3: 0.0000e+00\n",
      "Epoch 00033: val_loss did not improve from 0.73472\n",
      "2/2 [==============================] - 2s 1s/step - loss: 0.7350 - dice_coef: 0.2650 - dice_coef_c1: 0.7949 - dice_coef_c2: 0.0000e+00 - dice_coef_c3: 0.0000e+00 - val_loss: 0.7361 - val_dice_coef: 0.2639 - val_dice_coef_c1: 0.7918 - val_dice_coef_c2: 0.0000e+00 - val_dice_coef_c3: 0.0000e+00\n",
      "Epoch 34/50\n",
      "2/2 [==============================] - ETA: 0s - loss: 0.7361 - dice_coef: 0.2639 - dice_coef_c1: 0.7916 - dice_coef_c2: 0.0000e+00 - dice_coef_c3: 0.0000e+00\n",
      "Epoch 00034: val_loss did not improve from 0.73472\n",
      "2/2 [==============================] - 2s 1s/step - loss: 0.7361 - dice_coef: 0.2639 - dice_coef_c1: 0.7916 - dice_coef_c2: 0.0000e+00 - dice_coef_c3: 0.0000e+00 - val_loss: 0.7361 - val_dice_coef: 0.2639 - val_dice_coef_c1: 0.7917 - val_dice_coef_c2: 0.0000e+00 - val_dice_coef_c3: 0.0000e+00\n",
      "Epoch 35/50\n",
      "2/2 [==============================] - ETA: 0s - loss: 0.7360 - dice_coef: 0.2640 - dice_coef_c1: 0.7920 - dice_coef_c2: 0.0000e+00 - dice_coef_c3: 0.0000e+00\n",
      "Epoch 00035: val_loss did not improve from 0.73472\n",
      "\n",
      "Epoch 00035: ReduceLROnPlateau reducing learning rate to 1e-06.\n",
      "2/2 [==============================] - 2s 1s/step - loss: 0.7360 - dice_coef: 0.2640 - dice_coef_c1: 0.7920 - dice_coef_c2: 0.0000e+00 - dice_coef_c3: 0.0000e+00 - val_loss: 0.7358 - val_dice_coef: 0.2642 - val_dice_coef_c1: 0.7927 - val_dice_coef_c2: 0.0000e+00 - val_dice_coef_c3: 0.0000e+00\n",
      "Epoch 36/50\n",
      "2/2 [==============================] - ETA: 0s - loss: 0.7358 - dice_coef: 0.2642 - dice_coef_c1: 0.7927 - dice_coef_c2: 0.0000e+00 - dice_coef_c3: 0.0000e+00\n",
      "Epoch 00036: val_loss did not improve from 0.73472\n",
      "2/2 [==============================] - 2s 1s/step - loss: 0.7358 - dice_coef: 0.2642 - dice_coef_c1: 0.7927 - dice_coef_c2: 0.0000e+00 - dice_coef_c3: 0.0000e+00 - val_loss: 0.7357 - val_dice_coef: 0.2643 - val_dice_coef_c1: 0.7929 - val_dice_coef_c2: 0.0000e+00 - val_dice_coef_c3: 0.0000e+00\n",
      "Epoch 37/50\n",
      "2/2 [==============================] - ETA: 0s - loss: 0.7357 - dice_coef: 0.2643 - dice_coef_c1: 0.7930 - dice_coef_c2: 0.0000e+00 - dice_coef_c3: 0.0000e+00\n",
      "Epoch 00037: val_loss did not improve from 0.73472\n",
      "2/2 [==============================] - 2s 1s/step - loss: 0.7357 - dice_coef: 0.2643 - dice_coef_c1: 0.7930 - dice_coef_c2: 0.0000e+00 - dice_coef_c3: 0.0000e+00 - val_loss: 0.7356 - val_dice_coef: 0.2644 - val_dice_coef_c1: 0.7931 - val_dice_coef_c2: 0.0000e+00 - val_dice_coef_c3: 0.0000e+00\n",
      "Epoch 38/50\n",
      "2/2 [==============================] - ETA: 0s - loss: 0.7356 - dice_coef: 0.2644 - dice_coef_c1: 0.7932 - dice_coef_c2: 0.0000e+00 - dice_coef_c3: 0.0000e+00\n",
      "Epoch 00038: val_loss did not improve from 0.73472\n",
      "2/2 [==============================] - 2s 1s/step - loss: 0.7356 - dice_coef: 0.2644 - dice_coef_c1: 0.7932 - dice_coef_c2: 0.0000e+00 - dice_coef_c3: 0.0000e+00 - val_loss: 0.7355 - val_dice_coef: 0.2645 - val_dice_coef_c1: 0.7934 - val_dice_coef_c2: 0.0000e+00 - val_dice_coef_c3: 0.0000e+00\n",
      "Epoch 39/50\n",
      "2/2 [==============================] - ETA: 0s - loss: 0.7355 - dice_coef: 0.2645 - dice_coef_c1: 0.7935 - dice_coef_c2: 0.0000e+00 - dice_coef_c3: 0.0000e+00\n",
      "Epoch 00039: val_loss did not improve from 0.73472\n",
      "2/2 [==============================] - 2s 1s/step - loss: 0.7355 - dice_coef: 0.2645 - dice_coef_c1: 0.7935 - dice_coef_c2: 0.0000e+00 - dice_coef_c3: 0.0000e+00 - val_loss: 0.7354 - val_dice_coef: 0.2646 - val_dice_coef_c1: 0.7939 - val_dice_coef_c2: 0.0000e+00 - val_dice_coef_c3: 0.0000e+00\n",
      "Epoch 40/50\n",
      "2/2 [==============================] - ETA: 0s - loss: 0.7353 - dice_coef: 0.2647 - dice_coef_c1: 0.7940 - dice_coef_c2: 0.0000e+00 - dice_coef_c3: 0.0000e+00\n",
      "Epoch 00040: val_loss did not improve from 0.73472\n",
      "2/2 [==============================] - 2s 1s/step - loss: 0.7353 - dice_coef: 0.2647 - dice_coef_c1: 0.7940 - dice_coef_c2: 0.0000e+00 - dice_coef_c3: 0.0000e+00 - val_loss: 0.7352 - val_dice_coef: 0.2648 - val_dice_coef_c1: 0.7943 - val_dice_coef_c2: 0.0000e+00 - val_dice_coef_c3: 0.0000e+00\n",
      "Epoch 41/50\n",
      "2/2 [==============================] - ETA: 0s - loss: 0.7352 - dice_coef: 0.2648 - dice_coef_c1: 0.7945 - dice_coef_c2: 0.0000e+00 - dice_coef_c3: 0.0000e+00\n",
      "Epoch 00041: val_loss did not improve from 0.73472\n",
      "2/2 [==============================] - 2s 1s/step - loss: 0.7352 - dice_coef: 0.2648 - dice_coef_c1: 0.7945 - dice_coef_c2: 0.0000e+00 - dice_coef_c3: 0.0000e+00 - val_loss: 0.7350 - val_dice_coef: 0.2650 - val_dice_coef_c1: 0.7950 - val_dice_coef_c2: 0.0000e+00 - val_dice_coef_c3: 0.0000e+00\n",
      "Epoch 42/50\n",
      "2/2 [==============================] - ETA: 0s - loss: 0.7350 - dice_coef: 0.2650 - dice_coef_c1: 0.7950 - dice_coef_c2: 0.0000e+00 - dice_coef_c3: 0.0000e+00\n",
      "Epoch 00042: val_loss did not improve from 0.73472\n",
      "2/2 [==============================] - 2s 1s/step - loss: 0.7350 - dice_coef: 0.2650 - dice_coef_c1: 0.7950 - dice_coef_c2: 0.0000e+00 - dice_coef_c3: 0.0000e+00 - val_loss: 0.7349 - val_dice_coef: 0.2651 - val_dice_coef_c1: 0.7953 - val_dice_coef_c2: 0.0000e+00 - val_dice_coef_c3: 0.0000e+00\n",
      "Epoch 00042: early stopping\n"
     ]
    }
   ],
   "source": [
    "history = model.fit(train_dataset,\n",
    "        steps_per_epoch=train_steps,\n",
    "        validation_data=valid_dataset,\n",
    "        validation_steps=valid_steps,\n",
    "        epochs=epochs,\n",
    "        callbacks=callbacks\n",
    "    )"
   ]
  },
  {
   "cell_type": "markdown",
   "metadata": {},
   "source": [
    "## Saving model and training history"
   ]
  },
  {
   "cell_type": "markdown",
   "metadata": {},
   "source": [
    "The best model is already saved. If we want to track and save the training history (perfromance after each epoch) we can do that by applying the following code."
   ]
  },
  {
   "cell_type": "code",
   "execution_count": 15,
   "metadata": {},
   "outputs": [],
   "source": [
    "SAVEFILE_NAME = 'multiclass'\n",
    "SAVE_FORMAT = 'h5'\n",
    "path_model = os.path.join(parent_dir + '/models/', SAVEFILE_NAME)          \n",
    "\n",
    "Full_history = {}\n",
    "for x in history.history:\n",
    "    Full_history[x]  = history.history[x] \n",
    "\n",
    "np.save(path_model+'_training_history.npy', Full_history)"
   ]
  },
  {
   "cell_type": "markdown",
   "metadata": {},
   "source": [
    "__Load previous model and history__"
   ]
  },
  {
   "cell_type": "markdown",
   "metadata": {},
   "source": [
    "If we want to continue training of a model which was already trained, use the following functions to reload the saved model:"
   ]
  },
  {
   "cell_type": "code",
   "execution_count": null,
   "metadata": {},
   "outputs": [],
   "source": [
    "# # load history\n",
    "# Full_history = np.load(path_model+'_training_history.npy',allow_pickle='TRUE').item()\n",
    "# print(Full_history.keys()) #prints keys\n",
    "# # Load model\n",
    "# model =  tf.keras.models.load_model(path_model+ '.' + SAVE_FORMAT, custom_objects={'dice_loss': dice_loss, 'dice_coef': dice_coef,\n",
    "#                                                                                    'dice_coef_c1': dice_coef_c1, 'dice_coef_c2':dice_coef_c2,\n",
    "#                                                                                    'dice_coef_c3': dice_coef_c3}, compile=True)"
   ]
  },
  {
   "cell_type": "markdown",
   "metadata": {},
   "source": [
    "## Plot training performance metrics"
   ]
  },
  {
   "cell_type": "markdown",
   "metadata": {},
   "source": [
    "The training process is completed so let's plot the training performance metrics to analyse, how they have changed from epoch to epoch."
   ]
  },
  {
   "cell_type": "code",
   "execution_count": 16,
   "metadata": {},
   "outputs": [
    {
     "data": {
      "image/png": "[encoded data removed]",
      "text/plain": [
       "<Figure size 1440x504 with 2 Axes>"
      ]
     },
     "metadata": {
      "needs_background": "light"
     },
     "output_type": "display_data"
    }
   ],
   "source": [
    "## Plot training history\n",
    "training_loss = Full_history['loss']\n",
    "validation_loss = Full_history['val_loss']\n",
    "training_dice_coef = Full_history['dice_coef']\n",
    "training_dice_coef_c1 = Full_history['dice_coef_c1']\n",
    "training_dice_coef_c2 = Full_history['dice_coef_c2']\n",
    "training_dice_coef_c3 = Full_history['dice_coef_c3']\n",
    "\n",
    "## Plot validation history\n",
    "\n",
    "validation_dice_coef = Full_history['val_dice_coef']\n",
    "validation_dice_coef_c1 = Full_history['val_dice_coef_c1']\n",
    "validation_dice_coef_c2 = Full_history['val_dice_coef_c2']\n",
    "validation_dice_coef_c3 = Full_history['val_dice_coef_c3']\n",
    "\n",
    "\n",
    "epoch_count = range(1, len(training_loss) + 1)\n",
    "fig, axs = plt.subplots(1, 2, figsize = (20, 7))\n",
    "\n",
    "\n",
    "# first supbplot for losses\n",
    "axs[0].plot(epoch_count, training_loss, color = 'crimson', linestyle ='--', linewidth = 2)\n",
    "axs[0].plot(epoch_count, validation_loss, color = 'royalblue', linestyle ='--', linewidth = 2)\n",
    "\n",
    "axs[0].set_title('Loss vs. Time of Training', fontsize=18, pad=15)\n",
    "axs[0].set_ylabel('Loss (1-Dice Coefficient)', fontsize=14, labelpad=10)\n",
    "axs[0].set_xlabel('Epochs', fontsize=14, labelpad=10)\n",
    "axs[0].legend(['Training', 'Validation'], fontsize=14)\n",
    "\n",
    "axs[0].set_yticks([0, 0.25, 0.5, 0.75, 1])\n",
    "axs[0].set_ylim((0,1))\n",
    "axs[0].xaxis.set_major_formatter(ticker.StrMethodFormatter('{x:,.0f}'))\n",
    "axs[0].tick_params(labelsize=14)\n",
    "axs[0].grid(which='both', axis='y', linewidth =1, color = 'silver')\n",
    "axs[0].spines['right'].set_visible(False)\n",
    "axs[0].spines['top'].set_visible(False)\n",
    "axs[0].patch.set_facecolor('snow')\n",
    "\n",
    "\n",
    "#validation loss\n",
    "\n",
    "axs[1].plot(epoch_count, validation_dice_coef, color = 'black', linestyle ='-', linewidth = 2)\n",
    "axs[1].plot(epoch_count, validation_dice_coef_c1, color = 'green', linestyle ='--', linewidth = 2)\n",
    "axs[1].plot(epoch_count, validation_dice_coef_c2, color = 'royalblue', linestyle ='--', linewidth = 2)\n",
    "axs[1].plot(epoch_count, validation_dice_coef_c3,  color = 'crimson', linestyle ='--', linewidth = 2)\n",
    "\n",
    "axs[1].set_title('Metrics vs. Time of Training', fontsize=18, pad=15)\n",
    "axs[1].set_ylabel('Metrics (on validation dataset)',  fontsize=14, labelpad=10)\n",
    "axs[1].set_xlabel('Epochs', fontsize=14, labelpad=10)\n",
    "axs[1].legend([ \"dice coef (mean of all classes)\", \"dice coef for 'unlabelled'\", \"dice coef for C1\", \"dice coef C2\"], fontsize=14)\n",
    "\n",
    "axs[1].set_yticks([0, 0.25, 0.5, 0.75, 1])\n",
    "axs[1].set_ylim((0,1))\n",
    "axs[1].xaxis.set_major_formatter(ticker.StrMethodFormatter('{x:,.0f}'))\n",
    "axs[1].tick_params(labelsize=14)\n",
    "axs[1].grid(which='both', axis='y', linewidth =1, color = 'silver')\n",
    "axs[1].spines['right'].set_visible(False)\n",
    "axs[1].spines['top'].set_visible(False)\n",
    "axs[1].patch.set_facecolor('snow')\n",
    "\n",
    "None"
   ]
  },
  {
   "cell_type": "markdown",
   "metadata": {},
   "source": [
    "## Evaluate on test data"
   ]
  },
  {
   "cell_type": "markdown",
   "metadata": {},
   "source": [
    "Evaluate the models performance on the test_dataset:"
   ]
  },
  {
   "cell_type": "code",
   "execution_count": 17,
   "metadata": {},
   "outputs": [
    {
     "name": "stdout",
     "output_type": "stream",
     "text": [
      "1/1 [==============================] - 0s 793us/step - loss: 0.7349 - dice_coef: 0.2651 - dice_coef_c1: 0.7953 - dice_coef_c2: 0.0000e+00 - dice_coef_c3: 0.0000e+00\n"
     ]
    }
   ],
   "source": [
    "results = model.evaluate(test_dataset, steps=valid_steps)"
   ]
  },
  {
   "cell_type": "markdown",
   "metadata": {},
   "source": [
    "# Predict on test data"
   ]
  },
  {
   "cell_type": "code",
   "execution_count": 19,
   "metadata": {},
   "outputs": [
    {
     "name": "stderr",
     "output_type": "stream",
     "text": [
      "100%|██████████| 1/1 [00:00<00:00,  2.10it/s]\n"
     ]
    }
   ],
   "source": [
    "model_input_data = test_x  \n",
    "\n",
    "for file_path in tqdm(model_input_data):\n",
    "  file_name = os.path.basename(file_path)\n",
    "  file_name, fileext = os.path.splitext(file_name)\n",
    "  \n",
    "\n",
    "  img = read_select_geo_channel(file_path, chanels, W, H)         \n",
    "  img = model.predict(np.expand_dims(img, axis=0))[0]  "
   ]
  },
  {
   "cell_type": "code",
   "execution_count": null,
   "metadata": {},
   "outputs": [],
   "source": []
  },
  {
   "cell_type": "code",
   "execution_count": null,
   "metadata": {},
   "outputs": [],
   "source": []
  }
 ],
 "metadata": {
  "kernelspec": {
   "display_name": "Python [conda env:aison_technologies] *",
   "language": "python",
   "name": "conda-env-aison_technologies-py"
  },
  "language_info": {
   "codemirror_mode": {
    "name": "ipython",
    "version": 3
   },
   "file_extension": ".py",
   "mimetype": "text/x-python",
   "name": "python",
   "nbconvert_exporter": "python",
   "pygments_lexer": "ipython3",
   "version": "3.8.6"
  }
 },
 "nbformat": 4,
 "nbformat_minor": 4
}
