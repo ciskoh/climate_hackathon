{
 "cells": [
  {
   "cell_type": "markdown",
   "metadata": {},
   "source": [
    "# Multiclass image segmentation"
   ]
  },
  {
   "cell_type": "markdown",
   "metadata": {},
   "source": [
    "__Load Libraries__"
   ]
  },
  {
   "cell_type": "code",
   "execution_count": 2,
   "metadata": {},
   "outputs": [],
   "source": [
    "import os\n",
    "import tensorflow as tf\n",
    "import matplotlib.pyplot as plt\n",
    "import matplotlib.patches as mpatches\n",
    "import matplotlib.ticker as ticker\n",
    "from glob import glob\n",
    "import cv2\n",
    "import numpy as np\n",
    "from tqdm import tqdm\n",
    "from tensorflow.keras.callbacks import EarlyStopping, ReduceLROnPlateau, ModelCheckpoint\n",
    "from PIL import Image\n",
    "from osgeo import gdal"
   ]
  },
  {
   "cell_type": "markdown",
   "metadata": {},
   "source": [
    "## Set Path"
   ]
  },
  {
   "cell_type": "code",
   "execution_count": 27,
   "metadata": {},
   "outputs": [],
   "source": [
    "dir = os.getcwd()\n",
    "parent_dir = os.path.dirname(dir)\n",
    "\n",
    "PATH = parent_dir + '/data/Sentinel'                             \n",
    "PATH_IMAGES = PATH + '/images/'\n",
    "PATH_MASKS = PATH + '/masks/'\n",
    "PATH_PREDICTIONS = PATH + '/predictions/' \n",
    "\n",
    "import sys\n",
    "sys.path.append(parent_dir)"
   ]
  },
  {
   "cell_type": "markdown",
   "metadata": {},
   "source": [
    "## Import custom functions"
   ]
  },
  {
   "cell_type": "code",
   "execution_count": 4,
   "metadata": {},
   "outputs": [],
   "source": [
    "#from scripts\n",
    "from library.data_preprocessing_multiclass import load_data, tf_dataset_geo, read_image, read_select_geo_channel, read_original_size\n",
    "from library.data_augmentation import augment_data, load_augmented_x_train_y_train, create_dir\n",
    "from library.models import unet_large, mobile_netv2\n",
    "from library.metrics import *\n",
    "from library.visualisation_multiclass import *"
   ]
  },
  {
   "cell_type": "markdown",
   "metadata": {},
   "source": [
    "# Define Hyperparemeters"
   ]
  },
  {
   "cell_type": "markdown",
   "metadata": {},
   "source": [
    "In a first step, we can define some hyperparameters:\n",
    "- **Shape**:  The shape of the images we feed into the model\n",
    "- **Num_classes**: How many classes do we try to predict?\n",
    "- **BATCH**: Batch Size\n",
    "- **Epochs**: For how many epochs do we train our model\n",
    "- **learning_rate**: reasonable values: 1e-4 for mobile_netv2, 1e-5 for Unet_large"
   ]
  },
  {
   "cell_type": "code",
   "execution_count": 5,
   "metadata": {},
   "outputs": [],
   "source": [
    "#Define amount of classes the model should predict, the height (H) and width (W) of the image.\n",
    "num_classes = 3\n",
    "H=256 \n",
    "W=256\n",
    "shape = (W, H, num_classes)\n",
    "chanels = [4,3,2]\n",
    "\n",
    "#Define the batch size, for how many epochs we want to train our model and the learning_rate.\n",
    "BATCH = 4\n",
    "epochs = 50\n",
    "learning_rate = 1e-4"
   ]
  },
  {
   "cell_type": "markdown",
   "metadata": {},
   "source": [
    "## Load Data\n",
    "Now, we can load the data and split them into train, validation and testing set. Per default, the train / val / test-split is 80% / 10% /10%. If required, this can be adapted by changing 'split = 0.1' to the desired degree."
   ]
  },
  {
   "cell_type": "code",
   "execution_count": 6,
   "metadata": {},
   "outputs": [
    {
     "name": "stdout",
     "output_type": "stream",
     "text": [
      "Dataset: Train: 8 - Valid: 1 - Test: 1\n"
     ]
    }
   ],
   "source": [
    "(train_x, train_y), (valid_x, valid_y), (test_x, test_y) = load_data(path_images = PATH_IMAGES, path_masks = PATH_MASKS, split = 0.1)\n",
    "print(f\"Dataset: Train: {len(train_x)} - Valid: {len(valid_x)} - Test: {len(test_x)}\")"
   ]
  },
  {
   "cell_type": "markdown",
   "metadata": {},
   "source": [
    "## Create Datasets"
   ]
  },
  {
   "cell_type": "markdown",
   "metadata": {},
   "source": [
    "As we have now the to correct splits and all data as we need, we can create the train_dataset, valid_dataset and test_dataset. To do so, use the function tf_dataset. This function loads the images and masks, resizes them to the defined size, normalizes images and performs one-hot encoding on the masks.\n",
    "\n",
    "Check the **data_preprocessing_multiclasss.py** script to check the code in detail."
   ]
  },
  {
   "cell_type": "code",
   "execution_count": 7,
   "metadata": {},
   "outputs": [],
   "source": [
    "train_dataset = tf_dataset_geo(train_x, train_y, chanels, batch=BATCH, width=W, height=H)\n",
    "valid_dataset = tf_dataset_geo(valid_x, valid_y, chanels, batch=BATCH, width=W, height=H)\n",
    "test_dataset = tf_dataset_geo(test_x, test_y, chanels, batch=BATCH, width=W, height=H)"
   ]
  },
  {
   "cell_type": "code",
   "execution_count": null,
   "metadata": {},
   "outputs": [],
   "source": []
  },
  {
   "cell_type": "markdown",
   "metadata": {},
   "source": [
    "## Model\n",
    "Let's now define the model and metrics we are using to evaluate the performance of the models."
   ]
  },
  {
   "cell_type": "markdown",
   "metadata": {},
   "source": [
    "### Metrics\n",
    "As metric to evaluate the performance of the model, the dice coef was used. The Dice Coefficient is 2 * the Area of Overlap divided by the total number of pixels in both images. The dice coef allows thus to gauge the similarity of two samples.\n",
    "\n",
    "While the dice_coef allows to monitor the overall performance, three seperate metrics were created to analyse, the performance for each class:\n",
    "\n",
    "\n",
    "- **dice_coef_c1**: Not segment 1 nor segement 2\n",
    "- **dice_coef_c2**: Segment 1\n",
    "- **dice_coef_c3**: Segment 2\n",
    "\n",
    "This would need to be increased according to the amount of classes but maybe start with 3 classes is a good starting point."
   ]
  },
  {
   "cell_type": "code",
   "execution_count": 8,
   "metadata": {},
   "outputs": [],
   "source": [
    "METRICS= [dice_coef, dice_coef_c1, dice_coef_c2, dice_coef_c3]"
   ]
  },
  {
   "cell_type": "markdown",
   "metadata": {},
   "source": [
    "### Define Model\n",
    "Now we define the model. Two diffrent Unet models are available for this task. As the name already suggests, the mobilenet model uses a pretrained mobilenet (trained on imagenet) as a decoder. The second model is a relatively large unet which was built from scratch. For the given task, of segmenting three diffrent classes, the performance of both models were quite similar.\n",
    "\n",
    "- Check the sript models.py for exact model architecture."
   ]
  },
  {
   "cell_type": "code",
   "execution_count": 9,
   "metadata": {},
   "outputs": [
    {
     "data": {
      "text/plain": [
       "' Model 1'"
      ]
     },
     "execution_count": 9,
     "metadata": {},
     "output_type": "execute_result"
    }
   ],
   "source": [
    "\"\"\" Model 1\"\"\"\n",
    "#model = mobile_netv2(shape, num_classes)"
   ]
  },
  {
   "cell_type": "code",
   "execution_count": 12,
   "metadata": {},
   "outputs": [],
   "source": [
    "\"\"\" Model 2\"\"\"\n",
    "model = unet_large(shape, num_classes)\n",
    "\n",
    "# also any othet model can be used here... and would be a good practice if any other model is used to add it to the library/models.py file"
   ]
  },
  {
   "cell_type": "markdown",
   "metadata": {},
   "source": [
    "###  Compile Model\n",
    "To train a model with fit(), we need to specify a loss function, an optimizer, and optionally, some metrics to monitor. We use the dice_loss as a loss function and the Adam algorithm as an optimizer. The learning_rate and the metrics were already defined."
   ]
  },
  {
   "cell_type": "code",
   "execution_count": 13,
   "metadata": {},
   "outputs": [],
   "source": [
    "model.compile(loss=dice_loss, optimizer=tf.keras.optimizers.Adam(learning_rate), metrics=METRICS)"
   ]
  },
  {
   "cell_type": "code",
   "execution_count": 14,
   "metadata": {
    "scrolled": true
   },
   "outputs": [
    {
     "name": "stdout",
     "output_type": "stream",
     "text": [
      "Model: \"functional_1\"\n",
      "__________________________________________________________________________________________________\n",
      "Layer (type)                    Output Shape         Param #     Connected to                     \n",
      "==================================================================================================\n",
      "input_image (InputLayer)        [(None, 256, 256, 3) 0                                            \n",
      "__________________________________________________________________________________________________\n",
      "conv2d (Conv2D)                 (None, 256, 256, 32) 896         input_image[0][0]                \n",
      "__________________________________________________________________________________________________\n",
      "conv2d_1 (Conv2D)               (None, 256, 256, 32) 9248        conv2d[0][0]                     \n",
      "__________________________________________________________________________________________________\n",
      "max_pooling2d (MaxPooling2D)    (None, 128, 128, 32) 0           conv2d_1[0][0]                   \n",
      "__________________________________________________________________________________________________\n",
      "conv2d_2 (Conv2D)               (None, 128, 128, 64) 18496       max_pooling2d[0][0]              \n",
      "__________________________________________________________________________________________________\n",
      "conv2d_3 (Conv2D)               (None, 128, 128, 64) 36928       conv2d_2[0][0]                   \n",
      "__________________________________________________________________________________________________\n",
      "max_pooling2d_1 (MaxPooling2D)  (None, 64, 64, 64)   0           conv2d_3[0][0]                   \n",
      "__________________________________________________________________________________________________\n",
      "conv2d_4 (Conv2D)               (None, 64, 64, 128)  73856       max_pooling2d_1[0][0]            \n",
      "__________________________________________________________________________________________________\n",
      "conv2d_5 (Conv2D)               (None, 64, 64, 128)  147584      conv2d_4[0][0]                   \n",
      "__________________________________________________________________________________________________\n",
      "max_pooling2d_2 (MaxPooling2D)  (None, 32, 32, 128)  0           conv2d_5[0][0]                   \n",
      "__________________________________________________________________________________________________\n",
      "conv2d_6 (Conv2D)               (None, 32, 32, 256)  295168      max_pooling2d_2[0][0]            \n",
      "__________________________________________________________________________________________________\n",
      "conv2d_7 (Conv2D)               (None, 32, 32, 256)  590080      conv2d_6[0][0]                   \n",
      "__________________________________________________________________________________________________\n",
      "max_pooling2d_3 (MaxPooling2D)  (None, 16, 16, 256)  0           conv2d_7[0][0]                   \n",
      "__________________________________________________________________________________________________\n",
      "conv2d_8 (Conv2D)               (None, 16, 16, 512)  1180160     max_pooling2d_3[0][0]            \n",
      "__________________________________________________________________________________________________\n",
      "conv2d_9 (Conv2D)               (None, 16, 16, 512)  2359808     conv2d_8[0][0]                   \n",
      "__________________________________________________________________________________________________\n",
      "conv2d_transpose (Conv2DTranspo (None, 32, 32, 256)  524544      conv2d_9[0][0]                   \n",
      "__________________________________________________________________________________________________\n",
      "concatenate (Concatenate)       (None, 32, 32, 512)  0           conv2d_transpose[0][0]           \n",
      "                                                                 conv2d_7[0][0]                   \n",
      "__________________________________________________________________________________________________\n",
      "conv2d_10 (Conv2D)              (None, 32, 32, 256)  1179904     concatenate[0][0]                \n",
      "__________________________________________________________________________________________________\n",
      "conv2d_11 (Conv2D)              (None, 32, 32, 256)  590080      conv2d_10[0][0]                  \n",
      "__________________________________________________________________________________________________\n",
      "conv2d_transpose_1 (Conv2DTrans (None, 64, 64, 128)  131200      conv2d_11[0][0]                  \n",
      "__________________________________________________________________________________________________\n",
      "concatenate_1 (Concatenate)     (None, 64, 64, 256)  0           conv2d_transpose_1[0][0]         \n",
      "                                                                 conv2d_5[0][0]                   \n",
      "__________________________________________________________________________________________________\n",
      "conv2d_12 (Conv2D)              (None, 64, 64, 128)  295040      concatenate_1[0][0]              \n",
      "__________________________________________________________________________________________________\n",
      "conv2d_13 (Conv2D)              (None, 64, 64, 128)  147584      conv2d_12[0][0]                  \n",
      "__________________________________________________________________________________________________\n",
      "conv2d_transpose_2 (Conv2DTrans (None, 128, 128, 64) 32832       conv2d_13[0][0]                  \n",
      "__________________________________________________________________________________________________\n",
      "concatenate_2 (Concatenate)     (None, 128, 128, 128 0           conv2d_transpose_2[0][0]         \n",
      "                                                                 conv2d_3[0][0]                   \n",
      "__________________________________________________________________________________________________\n",
      "conv2d_14 (Conv2D)              (None, 128, 128, 64) 73792       concatenate_2[0][0]              \n",
      "__________________________________________________________________________________________________\n",
      "conv2d_15 (Conv2D)              (None, 128, 128, 64) 36928       conv2d_14[0][0]                  \n",
      "__________________________________________________________________________________________________\n",
      "conv2d_transpose_3 (Conv2DTrans (None, 256, 256, 32) 8224        conv2d_15[0][0]                  \n",
      "__________________________________________________________________________________________________\n",
      "concatenate_3 (Concatenate)     (None, 256, 256, 64) 0           conv2d_transpose_3[0][0]         \n",
      "                                                                 conv2d_1[0][0]                   \n",
      "__________________________________________________________________________________________________\n",
      "conv2d_16 (Conv2D)              (None, 256, 256, 32) 18464       concatenate_3[0][0]              \n",
      "__________________________________________________________________________________________________\n",
      "conv2d_17 (Conv2D)              (None, 256, 256, 32) 9248        conv2d_16[0][0]                  \n",
      "__________________________________________________________________________________________________\n",
      "conv2d_18 (Conv2D)              (None, 256, 256, 3)  99          conv2d_17[0][0]                  \n",
      "==================================================================================================\n",
      "Total params: 7,760,163\n",
      "Trainable params: 7,760,163\n",
      "Non-trainable params: 0\n",
      "__________________________________________________________________________________________________\n"
     ]
    }
   ],
   "source": [
    "#summaries the model\n",
    "model.summary()"
   ]
  },
  {
   "cell_type": "markdown",
   "metadata": {},
   "source": [
    "### Callbacks\n",
    "Callbacks are objects that can perform tasks at various stages of the training process. The following call-backs are used during the training process:\n",
    "\n",
    "- **ModelCheckpoint**: Saves the best model\n",
    "- **ReduceLROnPlateau**: Reduce learning rate when a metric has stopped improving.\n",
    "- **EarlyStopping**: Stop training when a monitored metric has stopped improving."
   ]
  },
  {
   "cell_type": "code",
   "execution_count": 15,
   "metadata": {},
   "outputs": [],
   "source": [
    "callbacks = [\n",
    "        ModelCheckpoint(parent_dir + '/models/multiclass.h5',  verbose=1, save_best_only=True),\n",
    "        ReduceLROnPlateau(monitor=\"val_loss\", patience=3, factor=0.1, verbose=1, min_lr=1e-6),\n",
    "        EarlyStopping(monitor=\"val_loss\", patience=10, verbose=1)\n",
    "    ]"
   ]
  },
  {
   "cell_type": "markdown",
   "metadata": {},
   "source": [
    "## Train the Model\n",
    "We can now start with the training process of the model. As a last step we define the train_steps and valid_steps and then pass all the needed arguments into the model.fit() function."
   ]
  },
  {
   "cell_type": "code",
   "execution_count": 16,
   "metadata": {},
   "outputs": [],
   "source": [
    "train_steps = len(train_x)//BATCH\n",
    "valid_steps = len(valid_x)//BATCH\n",
    "\n",
    "if len(train_x) % BATCH != 0:\n",
    "    train_steps += 1\n",
    "if len(valid_x) % BATCH != 0:\n",
    "    valid_steps += 1"
   ]
  },
  {
   "cell_type": "code",
   "execution_count": 17,
   "metadata": {},
   "outputs": [
    {
     "name": "stdout",
     "output_type": "stream",
     "text": [
      "Epoch 1/50\n",
      "2/2 [==============================] - ETA: 0s - loss: 0.9717 - dice_coef: 0.0283 - dice_coef_c1: 0.0850 - dice_coef_c2: 0.0000e+00 - dice_coef_c3: 0.0000e+00\n",
      "Epoch 00001: val_loss improved from inf to 0.97161, saving model to /Users/leticiafernandezmoguel/Desktop/DS_projects/LandPRO_LFM/models/multiclass.h5\n",
      "2/2 [==============================] - 3s 2s/step - loss: 0.9717 - dice_coef: 0.0283 - dice_coef_c1: 0.0850 - dice_coef_c2: 0.0000e+00 - dice_coef_c3: 0.0000e+00 - val_loss: 0.9716 - val_dice_coef: 0.0284 - val_dice_coef_c1: 0.0852 - val_dice_coef_c2: 0.0000e+00 - val_dice_coef_c3: 0.0000e+00\n",
      "Epoch 2/50\n",
      "2/2 [==============================] - ETA: 0s - loss: 0.9716 - dice_coef: 0.0284 - dice_coef_c1: 0.0852 - dice_coef_c2: 0.0000e+00 - dice_coef_c3: 0.0000e+00\n",
      "Epoch 00002: val_loss improved from 0.97161 to 0.97154, saving model to /Users/leticiafernandezmoguel/Desktop/DS_projects/LandPRO_LFM/models/multiclass.h5\n",
      "2/2 [==============================] - 2s 1s/step - loss: 0.9716 - dice_coef: 0.0284 - dice_coef_c1: 0.0852 - dice_coef_c2: 0.0000e+00 - dice_coef_c3: 0.0000e+00 - val_loss: 0.9715 - val_dice_coef: 0.0285 - val_dice_coef_c1: 0.0854 - val_dice_coef_c2: 0.0000e+00 - val_dice_coef_c3: 0.0000e+00\n",
      "Epoch 3/50\n",
      "2/2 [==============================] - ETA: 0s - loss: 0.9715 - dice_coef: 0.0285 - dice_coef_c1: 0.0854 - dice_coef_c2: 0.0000e+00 - dice_coef_c3: 0.0000e+00\n",
      "Epoch 00003: val_loss improved from 0.97154 to 0.97147, saving model to /Users/leticiafernandezmoguel/Desktop/DS_projects/LandPRO_LFM/models/multiclass.h5\n",
      "2/2 [==============================] - 2s 1s/step - loss: 0.9715 - dice_coef: 0.0285 - dice_coef_c1: 0.0854 - dice_coef_c2: 0.0000e+00 - dice_coef_c3: 0.0000e+00 - val_loss: 0.9715 - val_dice_coef: 0.0285 - val_dice_coef_c1: 0.0856 - val_dice_coef_c2: 0.0000e+00 - val_dice_coef_c3: 0.0000e+00\n",
      "Epoch 4/50\n",
      "2/2 [==============================] - ETA: 0s - loss: 0.9715 - dice_coef: 0.0285 - dice_coef_c1: 0.0856 - dice_coef_c2: 0.0000e+00 - dice_coef_c3: 0.0000e+00\n",
      "Epoch 00004: val_loss improved from 0.97147 to 0.97141, saving model to /Users/leticiafernandezmoguel/Desktop/DS_projects/LandPRO_LFM/models/multiclass.h5\n",
      "2/2 [==============================] - 2s 1s/step - loss: 0.9715 - dice_coef: 0.0285 - dice_coef_c1: 0.0856 - dice_coef_c2: 0.0000e+00 - dice_coef_c3: 0.0000e+00 - val_loss: 0.9714 - val_dice_coef: 0.0286 - val_dice_coef_c1: 0.0858 - val_dice_coef_c2: 0.0000e+00 - val_dice_coef_c3: 0.0000e+00\n",
      "Epoch 5/50\n",
      "2/2 [==============================] - ETA: 0s - loss: 0.9714 - dice_coef: 0.0286 - dice_coef_c1: 0.0858 - dice_coef_c2: 0.0000e+00 - dice_coef_c3: 0.0000e+00\n",
      "Epoch 00005: val_loss improved from 0.97141 to 0.97135, saving model to /Users/leticiafernandezmoguel/Desktop/DS_projects/LandPRO_LFM/models/multiclass.h5\n",
      "2/2 [==============================] - 2s 1s/step - loss: 0.9714 - dice_coef: 0.0286 - dice_coef_c1: 0.0858 - dice_coef_c2: 0.0000e+00 - dice_coef_c3: 0.0000e+00 - val_loss: 0.9713 - val_dice_coef: 0.0287 - val_dice_coef_c1: 0.0860 - val_dice_coef_c2: 0.0000e+00 - val_dice_coef_c3: 0.0000e+00\n",
      "Epoch 6/50\n",
      "2/2 [==============================] - ETA: 0s - loss: 0.9713 - dice_coef: 0.0287 - dice_coef_c1: 0.0860 - dice_coef_c2: 0.0000e+00 - dice_coef_c3: 0.0000e+00\n",
      "Epoch 00006: val_loss improved from 0.97135 to 0.97128, saving model to /Users/leticiafernandezmoguel/Desktop/DS_projects/LandPRO_LFM/models/multiclass.h5\n",
      "2/2 [==============================] - 2s 1s/step - loss: 0.9713 - dice_coef: 0.0287 - dice_coef_c1: 0.0860 - dice_coef_c2: 0.0000e+00 - dice_coef_c3: 0.0000e+00 - val_loss: 0.9713 - val_dice_coef: 0.0287 - val_dice_coef_c1: 0.0862 - val_dice_coef_c2: 0.0000e+00 - val_dice_coef_c3: 0.0000e+00\n",
      "Epoch 7/50\n",
      "2/2 [==============================] - ETA: 0s - loss: 0.9713 - dice_coef: 0.0287 - dice_coef_c1: 0.0862 - dice_coef_c2: 0.0000e+00 - dice_coef_c3: 0.0000e+00\n",
      "Epoch 00007: val_loss improved from 0.97128 to 0.97121, saving model to /Users/leticiafernandezmoguel/Desktop/DS_projects/LandPRO_LFM/models/multiclass.h5\n",
      "2/2 [==============================] - 2s 1s/step - loss: 0.9713 - dice_coef: 0.0287 - dice_coef_c1: 0.0862 - dice_coef_c2: 0.0000e+00 - dice_coef_c3: 0.0000e+00 - val_loss: 0.9712 - val_dice_coef: 0.0288 - val_dice_coef_c1: 0.0864 - val_dice_coef_c2: 0.0000e+00 - val_dice_coef_c3: 0.0000e+00\n",
      "Epoch 8/50\n",
      "2/2 [==============================] - ETA: 0s - loss: 0.9712 - dice_coef: 0.0288 - dice_coef_c1: 0.0864 - dice_coef_c2: 0.0000e+00 - dice_coef_c3: 0.0000e+00\n",
      "Epoch 00008: val_loss improved from 0.97121 to 0.97114, saving model to /Users/leticiafernandezmoguel/Desktop/DS_projects/LandPRO_LFM/models/multiclass.h5\n",
      "2/2 [==============================] - 2s 1s/step - loss: 0.9712 - dice_coef: 0.0288 - dice_coef_c1: 0.0864 - dice_coef_c2: 0.0000e+00 - dice_coef_c3: 0.0000e+00 - val_loss: 0.9711 - val_dice_coef: 0.0289 - val_dice_coef_c1: 0.0866 - val_dice_coef_c2: 0.0000e+00 - val_dice_coef_c3: 0.0000e+00\n",
      "Epoch 9/50\n",
      "2/2 [==============================] - ETA: 0s - loss: 0.9711 - dice_coef: 0.0289 - dice_coef_c1: 0.0866 - dice_coef_c2: 0.0000e+00 - dice_coef_c3: 0.0000e+00\n",
      "Epoch 00009: val_loss improved from 0.97114 to 0.97106, saving model to /Users/leticiafernandezmoguel/Desktop/DS_projects/LandPRO_LFM/models/multiclass.h5\n",
      "2/2 [==============================] - 2s 1s/step - loss: 0.9711 - dice_coef: 0.0289 - dice_coef_c1: 0.0866 - dice_coef_c2: 0.0000e+00 - dice_coef_c3: 0.0000e+00 - val_loss: 0.9711 - val_dice_coef: 0.0289 - val_dice_coef_c1: 0.0868 - val_dice_coef_c2: 0.0000e+00 - val_dice_coef_c3: 0.0000e+00\n",
      "Epoch 10/50\n",
      "2/2 [==============================] - ETA: 0s - loss: 0.9710 - dice_coef: 0.0290 - dice_coef_c1: 0.0869 - dice_coef_c2: 0.0000e+00 - dice_coef_c3: 0.0000e+00\n",
      "Epoch 00010: val_loss improved from 0.97106 to 0.97096, saving model to /Users/leticiafernandezmoguel/Desktop/DS_projects/LandPRO_LFM/models/multiclass.h5\n",
      "2/2 [==============================] - 2s 1s/step - loss: 0.9710 - dice_coef: 0.0290 - dice_coef_c1: 0.0869 - dice_coef_c2: 0.0000e+00 - dice_coef_c3: 0.0000e+00 - val_loss: 0.9710 - val_dice_coef: 0.0290 - val_dice_coef_c1: 0.0871 - val_dice_coef_c2: 0.0000e+00 - val_dice_coef_c3: 0.0000e+00\n",
      "Epoch 11/50\n",
      "2/2 [==============================] - ETA: 0s - loss: 0.9709 - dice_coef: 0.0291 - dice_coef_c1: 0.0872 - dice_coef_c2: 0.0000e+00 - dice_coef_c3: 0.0000e+00\n",
      "Epoch 00011: val_loss improved from 0.97096 to 0.97083, saving model to /Users/leticiafernandezmoguel/Desktop/DS_projects/LandPRO_LFM/models/multiclass.h5\n",
      "2/2 [==============================] - 2s 1s/step - loss: 0.9709 - dice_coef: 0.0291 - dice_coef_c1: 0.0872 - dice_coef_c2: 0.0000e+00 - dice_coef_c3: 0.0000e+00 - val_loss: 0.9708 - val_dice_coef: 0.0292 - val_dice_coef_c1: 0.0875 - val_dice_coef_c2: 0.0000e+00 - val_dice_coef_c3: 0.0000e+00\n",
      "Epoch 12/50\n",
      "2/2 [==============================] - ETA: 0s - loss: 0.9708 - dice_coef: 0.0292 - dice_coef_c1: 0.0876 - dice_coef_c2: 0.0000e+00 - dice_coef_c3: 0.0000e+00\n",
      "Epoch 00012: val_loss improved from 0.97083 to 0.97068, saving model to /Users/leticiafernandezmoguel/Desktop/DS_projects/LandPRO_LFM/models/multiclass.h5\n",
      "2/2 [==============================] - 2s 1s/step - loss: 0.9708 - dice_coef: 0.0292 - dice_coef_c1: 0.0876 - dice_coef_c2: 0.0000e+00 - dice_coef_c3: 0.0000e+00 - val_loss: 0.9707 - val_dice_coef: 0.0293 - val_dice_coef_c1: 0.0879 - val_dice_coef_c2: 0.0000e+00 - val_dice_coef_c3: 0.0000e+00\n",
      "Epoch 13/50\n",
      "2/2 [==============================] - ETA: 0s - loss: 0.9706 - dice_coef: 0.0294 - dice_coef_c1: 0.0881 - dice_coef_c2: 0.0000e+00 - dice_coef_c3: 0.0000e+00\n",
      "Epoch 00013: val_loss improved from 0.97068 to 0.97049, saving model to /Users/leticiafernandezmoguel/Desktop/DS_projects/LandPRO_LFM/models/multiclass.h5\n",
      "2/2 [==============================] - 2s 1s/step - loss: 0.9706 - dice_coef: 0.0294 - dice_coef_c1: 0.0881 - dice_coef_c2: 0.0000e+00 - dice_coef_c3: 0.0000e+00 - val_loss: 0.9705 - val_dice_coef: 0.0295 - val_dice_coef_c1: 0.0885 - val_dice_coef_c2: 0.0000e+00 - val_dice_coef_c3: 0.0000e+00\n",
      "Epoch 14/50\n",
      "2/2 [==============================] - ETA: 0s - loss: 0.9704 - dice_coef: 0.0296 - dice_coef_c1: 0.0887 - dice_coef_c2: 0.0000e+00 - dice_coef_c3: 0.0000e+00\n",
      "Epoch 00014: val_loss improved from 0.97049 to 0.97024, saving model to /Users/leticiafernandezmoguel/Desktop/DS_projects/LandPRO_LFM/models/multiclass.h5\n",
      "2/2 [==============================] - 2s 1s/step - loss: 0.9704 - dice_coef: 0.0296 - dice_coef_c1: 0.0887 - dice_coef_c2: 0.0000e+00 - dice_coef_c3: 0.0000e+00 - val_loss: 0.9702 - val_dice_coef: 0.0298 - val_dice_coef_c1: 0.0893 - val_dice_coef_c2: 0.0000e+00 - val_dice_coef_c3: 0.0000e+00\n",
      "Epoch 15/50\n",
      "2/2 [==============================] - ETA: 0s - loss: 0.9702 - dice_coef: 0.0298 - dice_coef_c1: 0.0895 - dice_coef_c2: 0.0000e+00 - dice_coef_c3: 0.0000e+00\n",
      "Epoch 00015: val_loss improved from 0.97024 to 0.96991, saving model to /Users/leticiafernandezmoguel/Desktop/DS_projects/LandPRO_LFM/models/multiclass.h5\n",
      "2/2 [==============================] - 2s 1s/step - loss: 0.9702 - dice_coef: 0.0298 - dice_coef_c1: 0.0895 - dice_coef_c2: 0.0000e+00 - dice_coef_c3: 0.0000e+00 - val_loss: 0.9699 - val_dice_coef: 0.0301 - val_dice_coef_c1: 0.0903 - val_dice_coef_c2: 0.0000e+00 - val_dice_coef_c3: 0.0000e+00\n",
      "Epoch 16/50\n",
      "2/2 [==============================] - ETA: 0s - loss: 0.9698 - dice_coef: 0.0302 - dice_coef_c1: 0.0906 - dice_coef_c2: 0.0000e+00 - dice_coef_c3: 0.0000e+00\n",
      "Epoch 00016: val_loss improved from 0.96991 to 0.96943, saving model to /Users/leticiafernandezmoguel/Desktop/DS_projects/LandPRO_LFM/models/multiclass.h5\n",
      "2/2 [==============================] - 2s 1s/step - loss: 0.9698 - dice_coef: 0.0302 - dice_coef_c1: 0.0906 - dice_coef_c2: 0.0000e+00 - dice_coef_c3: 0.0000e+00 - val_loss: 0.9694 - val_dice_coef: 0.0306 - val_dice_coef_c1: 0.0917 - val_dice_coef_c2: 0.0000e+00 - val_dice_coef_c3: 0.0000e+00\n",
      "Epoch 17/50\n",
      "2/2 [==============================] - ETA: 0s - loss: 0.9693 - dice_coef: 0.0307 - dice_coef_c1: 0.0922 - dice_coef_c2: 0.0000e+00 - dice_coef_c3: 0.0000e+00\n",
      "Epoch 00017: val_loss improved from 0.96943 to 0.96875, saving model to /Users/leticiafernandezmoguel/Desktop/DS_projects/LandPRO_LFM/models/multiclass.h5\n",
      "2/2 [==============================] - 2s 1s/step - loss: 0.9693 - dice_coef: 0.0307 - dice_coef_c1: 0.0922 - dice_coef_c2: 0.0000e+00 - dice_coef_c3: 0.0000e+00 - val_loss: 0.9687 - val_dice_coef: 0.0313 - val_dice_coef_c1: 0.0938 - val_dice_coef_c2: 0.0000e+00 - val_dice_coef_c3: 0.0000e+00\n",
      "Epoch 18/50\n",
      "2/2 [==============================] - ETA: 0s - loss: 0.9685 - dice_coef: 0.0315 - dice_coef_c1: 0.0944 - dice_coef_c2: 0.0000e+00 - dice_coef_c3: 0.0000e+00\n",
      "Epoch 00018: val_loss improved from 0.96875 to 0.96772, saving model to /Users/leticiafernandezmoguel/Desktop/DS_projects/LandPRO_LFM/models/multiclass.h5\n",
      "2/2 [==============================] - 2s 1s/step - loss: 0.9685 - dice_coef: 0.0315 - dice_coef_c1: 0.0944 - dice_coef_c2: 0.0000e+00 - dice_coef_c3: 0.0000e+00 - val_loss: 0.9677 - val_dice_coef: 0.0323 - val_dice_coef_c1: 0.0968 - val_dice_coef_c2: 0.0000e+00 - val_dice_coef_c3: 0.0000e+00\n",
      "Epoch 19/50\n",
      "2/2 [==============================] - ETA: 0s - loss: 0.9674 - dice_coef: 0.0326 - dice_coef_c1: 0.0979 - dice_coef_c2: 0.0000e+00 - dice_coef_c3: 0.0000e+00\n",
      "Epoch 00019: val_loss improved from 0.96772 to 0.96612, saving model to /Users/leticiafernandezmoguel/Desktop/DS_projects/LandPRO_LFM/models/multiclass.h5\n",
      "2/2 [==============================] - 2s 1s/step - loss: 0.9674 - dice_coef: 0.0326 - dice_coef_c1: 0.0979 - dice_coef_c2: 0.0000e+00 - dice_coef_c3: 0.0000e+00 - val_loss: 0.9661 - val_dice_coef: 0.0339 - val_dice_coef_c1: 0.1016 - val_dice_coef_c2: 0.0000e+00 - val_dice_coef_c3: 0.0000e+00\n",
      "Epoch 20/50\n",
      "2/2 [==============================] - ETA: 0s - loss: 0.9655 - dice_coef: 0.0345 - dice_coef_c1: 0.1034 - dice_coef_c2: 0.0000e+00 - dice_coef_c3: 0.0000e+00\n",
      "Epoch 00020: val_loss improved from 0.96612 to 0.96348, saving model to /Users/leticiafernandezmoguel/Desktop/DS_projects/LandPRO_LFM/models/multiclass.h5\n",
      "2/2 [==============================] - 2s 1s/step - loss: 0.9655 - dice_coef: 0.0345 - dice_coef_c1: 0.1034 - dice_coef_c2: 0.0000e+00 - dice_coef_c3: 0.0000e+00 - val_loss: 0.9635 - val_dice_coef: 0.0365 - val_dice_coef_c1: 0.1096 - val_dice_coef_c2: 0.0000e+00 - val_dice_coef_c3: 0.0000e+00\n",
      "Epoch 21/50\n",
      "2/2 [==============================] - ETA: 0s - loss: 0.9625 - dice_coef: 0.0375 - dice_coef_c1: 0.1125 - dice_coef_c2: 0.0000e+00 - dice_coef_c3: 0.0000e+00\n",
      "Epoch 00021: val_loss improved from 0.96348 to 0.95878, saving model to /Users/leticiafernandezmoguel/Desktop/DS_projects/LandPRO_LFM/models/multiclass.h5\n",
      "2/2 [==============================] - 2s 1s/step - loss: 0.9625 - dice_coef: 0.0375 - dice_coef_c1: 0.1125 - dice_coef_c2: 0.0000e+00 - dice_coef_c3: 0.0000e+00 - val_loss: 0.9588 - val_dice_coef: 0.0412 - val_dice_coef_c1: 0.1237 - val_dice_coef_c2: 0.0000e+00 - val_dice_coef_c3: 0.0000e+00\n",
      "Epoch 22/50\n",
      "2/2 [==============================] - ETA: 0s - loss: 0.9569 - dice_coef: 0.0431 - dice_coef_c1: 0.1294 - dice_coef_c2: 0.0000e+00 - dice_coef_c3: 0.0000e+00\n",
      "Epoch 00022: val_loss improved from 0.95878 to 0.94937, saving model to /Users/leticiafernandezmoguel/Desktop/DS_projects/LandPRO_LFM/models/multiclass.h5\n",
      "2/2 [==============================] - 2s 1s/step - loss: 0.9569 - dice_coef: 0.0431 - dice_coef_c1: 0.1294 - dice_coef_c2: 0.0000e+00 - dice_coef_c3: 0.0000e+00 - val_loss: 0.9494 - val_dice_coef: 0.0506 - val_dice_coef_c1: 0.1519 - val_dice_coef_c2: 0.0000e+00 - val_dice_coef_c3: 0.0000e+00\n",
      "Epoch 23/50\n",
      "2/2 [==============================] - ETA: 0s - loss: 0.9452 - dice_coef: 0.0548 - dice_coef_c1: 0.1645 - dice_coef_c2: 0.0000e+00 - dice_coef_c3: 0.0000e+00\n",
      "Epoch 00023: val_loss improved from 0.94937 to 0.92793, saving model to /Users/leticiafernandezmoguel/Desktop/DS_projects/LandPRO_LFM/models/multiclass.h5\n",
      "2/2 [==============================] - 2s 1s/step - loss: 0.9452 - dice_coef: 0.0548 - dice_coef_c1: 0.1645 - dice_coef_c2: 0.0000e+00 - dice_coef_c3: 0.0000e+00 - val_loss: 0.9279 - val_dice_coef: 0.0721 - val_dice_coef_c1: 0.2162 - val_dice_coef_c2: 0.0000e+00 - val_dice_coef_c3: 0.0000e+00\n",
      "Epoch 24/50\n",
      "2/2 [==============================] - ETA: 0s - loss: 0.9185 - dice_coef: 0.0815 - dice_coef_c1: 0.2446 - dice_coef_c2: 0.0000e+00 - dice_coef_c3: 0.0000e+00\n",
      "Epoch 00024: val_loss improved from 0.92793 to 0.88704, saving model to /Users/leticiafernandezmoguel/Desktop/DS_projects/LandPRO_LFM/models/multiclass.h5\n",
      "2/2 [==============================] - 2s 1s/step - loss: 0.9185 - dice_coef: 0.0815 - dice_coef_c1: 0.2446 - dice_coef_c2: 0.0000e+00 - dice_coef_c3: 0.0000e+00 - val_loss: 0.8870 - val_dice_coef: 0.1130 - val_dice_coef_c1: 0.3389 - val_dice_coef_c2: 0.0000e+00 - val_dice_coef_c3: 0.0000e+00\n",
      "Epoch 25/50\n",
      "2/2 [==============================] - ETA: 0s - loss: 0.8781 - dice_coef: 0.1219 - dice_coef_c1: 0.3656 - dice_coef_c2: 0.0000e+00 - dice_coef_c3: 0.0000e+00\n",
      "Epoch 00025: val_loss improved from 0.88704 to 0.85608, saving model to /Users/leticiafernandezmoguel/Desktop/DS_projects/LandPRO_LFM/models/multiclass.h5\n",
      "2/2 [==============================] - 2s 1s/step - loss: 0.8781 - dice_coef: 0.1219 - dice_coef_c1: 0.3656 - dice_coef_c2: 0.0000e+00 - dice_coef_c3: 0.0000e+00 - val_loss: 0.8561 - val_dice_coef: 0.1439 - val_dice_coef_c1: 0.4318 - val_dice_coef_c2: 0.0000e+00 - val_dice_coef_c3: 0.0000e+00\n",
      "Epoch 26/50\n",
      "2/2 [==============================] - ETA: 0s - loss: 0.8516 - dice_coef: 0.1484 - dice_coef_c1: 0.4453 - dice_coef_c2: 0.0000e+00 - dice_coef_c3: 0.0000e+00\n",
      "Epoch 00026: val_loss improved from 0.85608 to 0.83581, saving model to /Users/leticiafernandezmoguel/Desktop/DS_projects/LandPRO_LFM/models/multiclass.h5\n",
      "2/2 [==============================] - 2s 1s/step - loss: 0.8516 - dice_coef: 0.1484 - dice_coef_c1: 0.4453 - dice_coef_c2: 0.0000e+00 - dice_coef_c3: 0.0000e+00 - val_loss: 0.8358 - val_dice_coef: 0.1642 - val_dice_coef_c1: 0.4926 - val_dice_coef_c2: 0.0000e+00 - val_dice_coef_c3: 0.0000e+00\n",
      "Epoch 27/50\n",
      "2/2 [==============================] - ETA: 0s - loss: 0.8289 - dice_coef: 0.1711 - dice_coef_c1: 0.5133 - dice_coef_c2: 0.0000e+00 - dice_coef_c3: 0.0000e+00\n",
      "Epoch 00027: val_loss improved from 0.83581 to 0.80950, saving model to /Users/leticiafernandezmoguel/Desktop/DS_projects/LandPRO_LFM/models/multiclass.h5\n",
      "2/2 [==============================] - 2s 1s/step - loss: 0.8289 - dice_coef: 0.1711 - dice_coef_c1: 0.5133 - dice_coef_c2: 0.0000e+00 - dice_coef_c3: 0.0000e+00 - val_loss: 0.8095 - val_dice_coef: 0.1905 - val_dice_coef_c1: 0.5715 - val_dice_coef_c2: 0.0000e+00 - val_dice_coef_c3: 0.0000e+00\n",
      "Epoch 28/50\n",
      "2/2 [==============================] - ETA: 0s - loss: 0.8043 - dice_coef: 0.1957 - dice_coef_c1: 0.5872 - dice_coef_c2: 0.0000e+00 - dice_coef_c3: 0.0000e+00\n",
      "Epoch 00028: val_loss improved from 0.80950 to 0.79042, saving model to /Users/leticiafernandezmoguel/Desktop/DS_projects/LandPRO_LFM/models/multiclass.h5\n",
      "2/2 [==============================] - 2s 1s/step - loss: 0.8043 - dice_coef: 0.1957 - dice_coef_c1: 0.5872 - dice_coef_c2: 0.0000e+00 - dice_coef_c3: 0.0000e+00 - val_loss: 0.7904 - val_dice_coef: 0.2096 - val_dice_coef_c1: 0.6287 - val_dice_coef_c2: 0.0000e+00 - val_dice_coef_c3: 0.0000e+00\n",
      "Epoch 29/50\n",
      "2/2 [==============================] - ETA: 0s - loss: 0.7888 - dice_coef: 0.2112 - dice_coef_c1: 0.6336 - dice_coef_c2: 0.0000e+00 - dice_coef_c3: 0.0000e+00\n",
      "Epoch 00029: val_loss improved from 0.79042 to 0.78506, saving model to /Users/leticiafernandezmoguel/Desktop/DS_projects/LandPRO_LFM/models/multiclass.h5\n",
      "2/2 [==============================] - 2s 1s/step - loss: 0.7888 - dice_coef: 0.2112 - dice_coef_c1: 0.6336 - dice_coef_c2: 0.0000e+00 - dice_coef_c3: 0.0000e+00 - val_loss: 0.7851 - val_dice_coef: 0.2149 - val_dice_coef_c1: 0.6448 - val_dice_coef_c2: 0.0000e+00 - val_dice_coef_c3: 0.0000e+00\n",
      "Epoch 30/50\n",
      "2/2 [==============================] - ETA: 0s - loss: 0.7837 - dice_coef: 0.2163 - dice_coef_c1: 0.6490 - dice_coef_c2: 0.0000e+00 - dice_coef_c3: 0.0000e+00\n",
      "Epoch 00030: val_loss improved from 0.78506 to 0.78341, saving model to /Users/leticiafernandezmoguel/Desktop/DS_projects/LandPRO_LFM/models/multiclass.h5\n",
      "2/2 [==============================] - 2s 1s/step - loss: 0.7837 - dice_coef: 0.2163 - dice_coef_c1: 0.6490 - dice_coef_c2: 0.0000e+00 - dice_coef_c3: 0.0000e+00 - val_loss: 0.7834 - val_dice_coef: 0.2166 - val_dice_coef_c1: 0.6498 - val_dice_coef_c2: 0.0000e+00 - val_dice_coef_c3: 0.0000e+00\n",
      "Epoch 31/50\n",
      "2/2 [==============================] - ETA: 0s - loss: 0.7805 - dice_coef: 0.2195 - dice_coef_c1: 0.6586 - dice_coef_c2: 0.0000e+00 - dice_coef_c3: 0.0000e+00\n",
      "Epoch 00031: val_loss did not improve from 0.78341\n",
      "2/2 [==============================] - 2s 1s/step - loss: 0.7805 - dice_coef: 0.2195 - dice_coef_c1: 0.6586 - dice_coef_c2: 0.0000e+00 - dice_coef_c3: 0.0000e+00 - val_loss: 0.7958 - val_dice_coef: 0.2042 - val_dice_coef_c1: 0.6125 - val_dice_coef_c2: 0.0000e+00 - val_dice_coef_c3: 0.0000e+00\n",
      "Epoch 32/50\n",
      "2/2 [==============================] - ETA: 0s - loss: 0.7913 - dice_coef: 0.2087 - dice_coef_c1: 0.6262 - dice_coef_c2: 0.0000e+00 - dice_coef_c3: 0.0000e+00\n",
      "Epoch 00032: val_loss improved from 0.78341 to 0.77684, saving model to /Users/leticiafernandezmoguel/Desktop/DS_projects/LandPRO_LFM/models/multiclass.h5\n",
      "2/2 [==============================] - 2s 1s/step - loss: 0.7913 - dice_coef: 0.2087 - dice_coef_c1: 0.6262 - dice_coef_c2: 0.0000e+00 - dice_coef_c3: 0.0000e+00 - val_loss: 0.7768 - val_dice_coef: 0.2232 - val_dice_coef_c1: 0.6695 - val_dice_coef_c2: 0.0000e+00 - val_dice_coef_c3: 0.0000e+00\n",
      "Epoch 33/50\n",
      "2/2 [==============================] - ETA: 0s - loss: 0.7782 - dice_coef: 0.2218 - dice_coef_c1: 0.6655 - dice_coef_c2: 0.0000e+00 - dice_coef_c3: 0.0000e+00\n",
      "Epoch 00033: val_loss did not improve from 0.77684\n",
      "2/2 [==============================] - 2s 1s/step - loss: 0.7782 - dice_coef: 0.2218 - dice_coef_c1: 0.6655 - dice_coef_c2: 0.0000e+00 - dice_coef_c3: 0.0000e+00 - val_loss: 0.7873 - val_dice_coef: 0.2127 - val_dice_coef_c1: 0.6381 - val_dice_coef_c2: 0.0000e+00 - val_dice_coef_c3: 0.0000e+00\n",
      "Epoch 34/50\n",
      "2/2 [==============================] - ETA: 0s - loss: 0.7897 - dice_coef: 0.2103 - dice_coef_c1: 0.6310 - dice_coef_c2: 0.0000e+00 - dice_coef_c3: 0.0000e+00\n",
      "Epoch 00034: val_loss did not improve from 0.77684\n",
      "2/2 [==============================] - 2s 1s/step - loss: 0.7897 - dice_coef: 0.2103 - dice_coef_c1: 0.6310 - dice_coef_c2: 0.0000e+00 - dice_coef_c3: 0.0000e+00 - val_loss: 0.7914 - val_dice_coef: 0.2086 - val_dice_coef_c1: 0.6257 - val_dice_coef_c2: 0.0000e+00 - val_dice_coef_c3: 0.0000e+00\n",
      "Epoch 35/50\n",
      "2/2 [==============================] - ETA: 0s - loss: 0.7908 - dice_coef: 0.2092 - dice_coef_c1: 0.6276 - dice_coef_c2: 0.0000e+00 - dice_coef_c3: 0.0000e+00\n",
      "Epoch 00035: val_loss did not improve from 0.77684\n",
      "\n",
      "Epoch 00035: ReduceLROnPlateau reducing learning rate to 9.999999747378752e-06.\n",
      "2/2 [==============================] - 2s 1s/step - loss: 0.7908 - dice_coef: 0.2092 - dice_coef_c1: 0.6276 - dice_coef_c2: 0.0000e+00 - dice_coef_c3: 0.0000e+00 - val_loss: 0.7829 - val_dice_coef: 0.2171 - val_dice_coef_c1: 0.6512 - val_dice_coef_c2: 0.0000e+00 - val_dice_coef_c3: 0.0000e+00\n",
      "Epoch 36/50\n",
      "2/2 [==============================] - ETA: 0s - loss: 0.7828 - dice_coef: 0.2172 - dice_coef_c1: 0.6517 - dice_coef_c2: 0.0000e+00 - dice_coef_c3: 0.0000e+00\n",
      "Epoch 00036: val_loss did not improve from 0.77684\n",
      "2/2 [==============================] - 2s 1s/step - loss: 0.7828 - dice_coef: 0.2172 - dice_coef_c1: 0.6517 - dice_coef_c2: 0.0000e+00 - dice_coef_c3: 0.0000e+00 - val_loss: 0.7803 - val_dice_coef: 0.2197 - val_dice_coef_c1: 0.6591 - val_dice_coef_c2: 0.0000e+00 - val_dice_coef_c3: 0.0000e+00\n",
      "Epoch 37/50\n",
      "2/2 [==============================] - ETA: 0s - loss: 0.7796 - dice_coef: 0.2204 - dice_coef_c1: 0.6613 - dice_coef_c2: 0.0000e+00 - dice_coef_c3: 0.0000e+00\n",
      "Epoch 00037: val_loss did not improve from 0.77684\n",
      "2/2 [==============================] - 2s 1s/step - loss: 0.7796 - dice_coef: 0.2204 - dice_coef_c1: 0.6613 - dice_coef_c2: 0.0000e+00 - dice_coef_c3: 0.0000e+00 - val_loss: 0.7781 - val_dice_coef: 0.2219 - val_dice_coef_c1: 0.6656 - val_dice_coef_c2: 0.0000e+00 - val_dice_coef_c3: 0.0000e+00\n",
      "Epoch 38/50\n",
      "2/2 [==============================] - ETA: 0s - loss: 0.7781 - dice_coef: 0.2219 - dice_coef_c1: 0.6658 - dice_coef_c2: 0.0000e+00 - dice_coef_c3: 0.0000e+00\n",
      "Epoch 00038: val_loss did not improve from 0.77684\n",
      "\n",
      "Epoch 00038: ReduceLROnPlateau reducing learning rate to 1e-06.\n",
      "2/2 [==============================] - 2s 1s/step - loss: 0.7781 - dice_coef: 0.2219 - dice_coef_c1: 0.6658 - dice_coef_c2: 0.0000e+00 - dice_coef_c3: 0.0000e+00 - val_loss: 0.7779 - val_dice_coef: 0.2221 - val_dice_coef_c1: 0.6662 - val_dice_coef_c2: 0.0000e+00 - val_dice_coef_c3: 0.0000e+00\n",
      "Epoch 39/50\n",
      "2/2 [==============================] - ETA: 0s - loss: 0.7780 - dice_coef: 0.2220 - dice_coef_c1: 0.6661 - dice_coef_c2: 0.0000e+00 - dice_coef_c3: 0.0000e+00\n",
      "Epoch 00039: val_loss did not improve from 0.77684\n",
      "2/2 [==============================] - 2s 1s/step - loss: 0.7780 - dice_coef: 0.2220 - dice_coef_c1: 0.6661 - dice_coef_c2: 0.0000e+00 - dice_coef_c3: 0.0000e+00 - val_loss: 0.7780 - val_dice_coef: 0.2220 - val_dice_coef_c1: 0.6661 - val_dice_coef_c2: 0.0000e+00 - val_dice_coef_c3: 0.0000e+00\n",
      "Epoch 40/50\n",
      "2/2 [==============================] - ETA: 0s - loss: 0.7780 - dice_coef: 0.2220 - dice_coef_c1: 0.6660 - dice_coef_c2: 0.0000e+00 - dice_coef_c3: 0.0000e+00\n",
      "Epoch 00040: val_loss did not improve from 0.77684\n",
      "2/2 [==============================] - 2s 1s/step - loss: 0.7780 - dice_coef: 0.2220 - dice_coef_c1: 0.6660 - dice_coef_c2: 0.0000e+00 - dice_coef_c3: 0.0000e+00 - val_loss: 0.7780 - val_dice_coef: 0.2220 - val_dice_coef_c1: 0.6659 - val_dice_coef_c2: 0.0000e+00 - val_dice_coef_c3: 0.0000e+00\n",
      "Epoch 41/50\n",
      "2/2 [==============================] - ETA: 0s - loss: 0.7780 - dice_coef: 0.2220 - dice_coef_c1: 0.6659 - dice_coef_c2: 0.0000e+00 - dice_coef_c3: 0.0000e+00\n",
      "Epoch 00041: val_loss did not improve from 0.77684\n",
      "2/2 [==============================] - 2s 1s/step - loss: 0.7780 - dice_coef: 0.2220 - dice_coef_c1: 0.6659 - dice_coef_c2: 0.0000e+00 - dice_coef_c3: 0.0000e+00 - val_loss: 0.7780 - val_dice_coef: 0.2220 - val_dice_coef_c1: 0.6660 - val_dice_coef_c2: 0.0000e+00 - val_dice_coef_c3: 0.0000e+00\n",
      "Epoch 42/50\n",
      "2/2 [==============================] - ETA: 0s - loss: 0.7780 - dice_coef: 0.2220 - dice_coef_c1: 0.6660 - dice_coef_c2: 0.0000e+00 - dice_coef_c3: 0.0000e+00\n",
      "Epoch 00042: val_loss did not improve from 0.77684\n",
      "2/2 [==============================] - 2s 1s/step - loss: 0.7780 - dice_coef: 0.2220 - dice_coef_c1: 0.6660 - dice_coef_c2: 0.0000e+00 - dice_coef_c3: 0.0000e+00 - val_loss: 0.7780 - val_dice_coef: 0.2220 - val_dice_coef_c1: 0.6661 - val_dice_coef_c2: 0.0000e+00 - val_dice_coef_c3: 0.0000e+00\n",
      "Epoch 00042: early stopping\n"
     ]
    }
   ],
   "source": [
    "history = model.fit(train_dataset,\n",
    "        steps_per_epoch=train_steps,\n",
    "        validation_data=valid_dataset,\n",
    "        validation_steps=valid_steps,\n",
    "        epochs=epochs,\n",
    "        callbacks=callbacks\n",
    "    )"
   ]
  },
  {
   "cell_type": "markdown",
   "metadata": {},
   "source": [
    "## Saving model and training history"
   ]
  },
  {
   "cell_type": "markdown",
   "metadata": {},
   "source": [
    "The best model is already saved. If we want to track and save the training history (perfromance after each epoch) we can do that by applying the following code."
   ]
  },
  {
   "cell_type": "code",
   "execution_count": 18,
   "metadata": {},
   "outputs": [],
   "source": [
    "SAVEFILE_NAME = 'multiclass'\n",
    "SAVE_FORMAT = 'h5'\n",
    "path_model = os.path.join(parent_dir + '/models/', SAVEFILE_NAME)          \n",
    "\n",
    "Full_history = {}\n",
    "for x in history.history:\n",
    "    Full_history[x]  = history.history[x] \n",
    "\n",
    "np.save(path_model+'_training_history.npy', Full_history)"
   ]
  },
  {
   "cell_type": "markdown",
   "metadata": {},
   "source": [
    "__Load previous model and history__"
   ]
  },
  {
   "cell_type": "markdown",
   "metadata": {},
   "source": [
    "If we want to continue training of a model which was already trained, use the following functions to reload the saved model:"
   ]
  },
  {
   "cell_type": "code",
   "execution_count": null,
   "metadata": {},
   "outputs": [],
   "source": [
    "# # load history\n",
    "# Full_history = np.load(path_model+'_training_history.npy',allow_pickle='TRUE').item()\n",
    "# print(Full_history.keys()) #prints keys\n",
    "# # Load model\n",
    "# model =  tf.keras.models.load_model(path_model+ '.' + SAVE_FORMAT, custom_objects={'dice_loss': dice_loss, 'dice_coef': dice_coef,\n",
    "#                                                                                    'dice_coef_c1': dice_coef_c1, 'dice_coef_c2':dice_coef_c2,\n",
    "#                                                                                    'dice_coef_c3': dice_coef_c3}, compile=True)"
   ]
  },
  {
   "cell_type": "markdown",
   "metadata": {},
   "source": [
    "## Plot training performance metrics"
   ]
  },
  {
   "cell_type": "markdown",
   "metadata": {},
   "source": [
    "The training process is completed so let's plot the training performance metrics to analyse, how they have changed from epoch to epoch."
   ]
  },
  {
   "cell_type": "code",
   "execution_count": 19,
   "metadata": {},
   "outputs": [
    {
     "data": {
      "image/png": "[encoded data removed]",
      "text/plain": [
       "<Figure size 1440x504 with 2 Axes>"
      ]
     },
     "metadata": {
      "needs_background": "light"
     },
     "output_type": "display_data"
    }
   ],
   "source": [
    "## Plot training history\n",
    "training_loss = Full_history['loss']\n",
    "validation_loss = Full_history['val_loss']\n",
    "training_dice_coef = Full_history['dice_coef']\n",
    "training_dice_coef_c1 = Full_history['dice_coef_c1']\n",
    "training_dice_coef_c2 = Full_history['dice_coef_c2']\n",
    "training_dice_coef_c3 = Full_history['dice_coef_c3']\n",
    "\n",
    "## Plot validation history\n",
    "\n",
    "validation_dice_coef = Full_history['val_dice_coef']\n",
    "validation_dice_coef_c1 = Full_history['val_dice_coef_c1']\n",
    "validation_dice_coef_c2 = Full_history['val_dice_coef_c2']\n",
    "validation_dice_coef_c3 = Full_history['val_dice_coef_c3']\n",
    "\n",
    "\n",
    "epoch_count = range(1, len(training_loss) + 1)\n",
    "fig, axs = plt.subplots(1, 2, figsize = (20, 7))\n",
    "\n",
    "\n",
    "# first supbplot for losses\n",
    "axs[0].plot(epoch_count, training_loss, color = 'crimson', linestyle ='--', linewidth = 2)\n",
    "axs[0].plot(epoch_count, validation_loss, color = 'royalblue', linestyle ='--', linewidth = 2)\n",
    "\n",
    "axs[0].set_title('Loss vs. Time of Training', fontsize=18, pad=15)\n",
    "axs[0].set_ylabel('Loss (1-Dice Coefficient)', fontsize=14, labelpad=10)\n",
    "axs[0].set_xlabel('Epochs', fontsize=14, labelpad=10)\n",
    "axs[0].legend(['Training', 'Validation'], fontsize=14)\n",
    "\n",
    "axs[0].set_yticks([0, 0.25, 0.5, 0.75, 1])\n",
    "axs[0].set_ylim((0,1))\n",
    "axs[0].xaxis.set_major_formatter(ticker.StrMethodFormatter('{x:,.0f}'))\n",
    "axs[0].tick_params(labelsize=14)\n",
    "axs[0].grid(which='both', axis='y', linewidth =1, color = 'silver')\n",
    "axs[0].spines['right'].set_visible(False)\n",
    "axs[0].spines['top'].set_visible(False)\n",
    "axs[0].patch.set_facecolor('snow')\n",
    "\n",
    "\n",
    "#validation loss\n",
    "\n",
    "axs[1].plot(epoch_count, validation_dice_coef, color = 'black', linestyle ='-', linewidth = 2)\n",
    "axs[1].plot(epoch_count, validation_dice_coef_c1, color = 'green', linestyle ='--', linewidth = 2)\n",
    "axs[1].plot(epoch_count, validation_dice_coef_c2, color = 'royalblue', linestyle ='--', linewidth = 2)\n",
    "axs[1].plot(epoch_count, validation_dice_coef_c3,  color = 'crimson', linestyle ='--', linewidth = 2)\n",
    "\n",
    "axs[1].set_title('Metrics vs. Time of Training', fontsize=18, pad=15)\n",
    "axs[1].set_ylabel('Metrics (on validation dataset)',  fontsize=14, labelpad=10)\n",
    "axs[1].set_xlabel('Epochs', fontsize=14, labelpad=10)\n",
    "axs[1].legend([ \"dice coef (mean of all classes)\", \"dice coef for 'unlabelled'\", \"dice coef for C1\", \"dice coef C2\"], fontsize=14)\n",
    "\n",
    "axs[1].set_yticks([0, 0.25, 0.5, 0.75, 1])\n",
    "axs[1].set_ylim((0,1))\n",
    "axs[1].xaxis.set_major_formatter(ticker.StrMethodFormatter('{x:,.0f}'))\n",
    "axs[1].tick_params(labelsize=14)\n",
    "axs[1].grid(which='both', axis='y', linewidth =1, color = 'silver')\n",
    "axs[1].spines['right'].set_visible(False)\n",
    "axs[1].spines['top'].set_visible(False)\n",
    "axs[1].patch.set_facecolor('snow')\n",
    "\n",
    "None"
   ]
  },
  {
   "cell_type": "markdown",
   "metadata": {},
   "source": [
    "## Evaluate on test data"
   ]
  },
  {
   "cell_type": "markdown",
   "metadata": {},
   "source": [
    "Evaluate the models performance on the test_dataset:"
   ]
  },
  {
   "cell_type": "code",
   "execution_count": 43,
   "metadata": {},
   "outputs": [
    {
     "name": "stdout",
     "output_type": "stream",
     "text": [
      "1/1 [==============================] - 0s 782us/step - loss: 0.7780 - dice_coef: 0.2220 - dice_coef_c1: 0.6661 - dice_coef_c2: 0.0000e+00 - dice_coef_c3: 0.0000e+00\n"
     ]
    }
   ],
   "source": [
    "results = model.evaluate(test_dataset, steps=valid_steps)"
   ]
  },
  {
   "cell_type": "code",
   "execution_count": null,
   "metadata": {},
   "outputs": [],
   "source": []
  }
 ],
 "metadata": {
  "kernelspec": {
   "display_name": "Python [conda env:aison_technologies] *",
   "language": "python",
   "name": "conda-env-aison_technologies-py"
  },
  "language_info": {
   "codemirror_mode": {
    "name": "ipython",
    "version": 3
   },
   "file_extension": ".py",
   "mimetype": "text/x-python",
   "name": "python",
   "nbconvert_exporter": "python",
   "pygments_lexer": "ipython3",
   "version": "3.8.6"
  }
 },
 "nbformat": 4,
 "nbformat_minor": 4
}
